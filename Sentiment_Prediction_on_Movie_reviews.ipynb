{
  "metadata": {
    "kernelspec": {
      "language": "python",
      "display_name": "Python 3",
      "name": "python3"
    },
    "language_info": {
      "pygments_lexer": "ipython3",
      "nbconvert_exporter": "python",
      "version": "3.6.4",
      "file_extension": ".py",
      "codemirror_mode": {
        "name": "ipython",
        "version": 3
      },
      "name": "python",
      "mimetype": "text/x-python"
    },
    "colab": {
      "provenance": [],
      "toc_visible": true
    }
  },
  "nbformat_minor": 0,
  "nbformat": 4,
  "cells": [
    {
      "source": [
        "\n",
        "# IMPORTANT: RUN THIS CELL IN ORDER TO IMPORT YOUR KAGGLE DATA SOURCES\n",
        "# TO THE CORRECT LOCATION (/kaggle/input) IN YOUR NOTEBOOK,\n",
        "# THEN FEEL FREE TO DELETE THIS CELL.\n",
        "# NOTE: THIS NOTEBOOK ENVIRONMENT DIFFERS FROM KAGGLE'S PYTHON\n",
        "# ENVIRONMENT SO THERE MAY BE MISSING LIBRARIES USED BY YOUR\n",
        "# NOTEBOOK.\n",
        "\n",
        "import os\n",
        "import sys\n",
        "from tempfile import NamedTemporaryFile\n",
        "from urllib.request import urlopen\n",
        "from urllib.parse import unquote, urlparse\n",
        "from urllib.error import HTTPError\n",
        "from zipfile import ZipFile\n",
        "import tarfile\n",
        "import shutil\n",
        "\n",
        "CHUNK_SIZE = 40960\n",
        "DATA_SOURCE_MAPPING = 'sentiment-prediction-on-movie-reviews:https%3A%2F%2Fstorage.googleapis.com%2Fkaggle-competitions-data%2Fkaggle-v2%2F53569%2F5834979%2Fbundle%2Farchive.zip%3FX-Goog-Algorithm%3DGOOG4-RSA-SHA256%26X-Goog-Credential%3Dgcp-kaggle-com%2540kaggle-161607.iam.gserviceaccount.com%252F20240221%252Fauto%252Fstorage%252Fgoog4_request%26X-Goog-Date%3D20240221T115847Z%26X-Goog-Expires%3D259200%26X-Goog-SignedHeaders%3Dhost%26X-Goog-Signature%3D832af002a3ac43dbd32f8e58333a6c041d27496dd6158a3a1c824bec2946d9010ec7433a9d0c788517cfae2fead809f5b85e36c17db4a824d8ba1475f75bf0350b62762e626ee41a274fd4770138d07a06f22270a257c9a5aa187904134ec726b50a19395c84db71a5ce85ce106c8c9efec692d33a4e635fa34a408a77e5e59d157c4520b538e49091cbc29c94a3b2abc914156437735c47928d475b0dec4088f7a5fcc95cdc8108abcff5d00a036f646a47088be11eefadd3ed2f4df842cc89477b2d549457840f191bca47789935722dcba97493730fc66cd11d6675f695242caf4f172ff10dcb19727fbe602a442b2930c6fa545685efc2c60267b0757359'\n",
        "\n",
        "KAGGLE_INPUT_PATH='/kaggle/input'\n",
        "KAGGLE_WORKING_PATH='/kaggle/working'\n",
        "KAGGLE_SYMLINK='kaggle'\n",
        "\n",
        "!umount /kaggle/input/ 2> /dev/null\n",
        "shutil.rmtree('/kaggle/input', ignore_errors=True)\n",
        "os.makedirs(KAGGLE_INPUT_PATH, 0o777, exist_ok=True)\n",
        "os.makedirs(KAGGLE_WORKING_PATH, 0o777, exist_ok=True)\n",
        "\n",
        "try:\n",
        "  os.symlink(KAGGLE_INPUT_PATH, os.path.join(\"..\", 'input'), target_is_directory=True)\n",
        "except FileExistsError:\n",
        "  pass\n",
        "try:\n",
        "  os.symlink(KAGGLE_WORKING_PATH, os.path.join(\"..\", 'working'), target_is_directory=True)\n",
        "except FileExistsError:\n",
        "  pass\n",
        "\n",
        "for data_source_mapping in DATA_SOURCE_MAPPING.split(','):\n",
        "    directory, download_url_encoded = data_source_mapping.split(':')\n",
        "    download_url = unquote(download_url_encoded)\n",
        "    filename = urlparse(download_url).path\n",
        "    destination_path = os.path.join(KAGGLE_INPUT_PATH, directory)\n",
        "    try:\n",
        "        with urlopen(download_url) as fileres, NamedTemporaryFile() as tfile:\n",
        "            total_length = fileres.headers['content-length']\n",
        "            print(f'Downloading {directory}, {total_length} bytes compressed')\n",
        "            dl = 0\n",
        "            data = fileres.read(CHUNK_SIZE)\n",
        "            while len(data) > 0:\n",
        "                dl += len(data)\n",
        "                tfile.write(data)\n",
        "                done = int(50 * dl / int(total_length))\n",
        "                sys.stdout.write(f\"\\r[{'=' * done}{' ' * (50-done)}] {dl} bytes downloaded\")\n",
        "                sys.stdout.flush()\n",
        "                data = fileres.read(CHUNK_SIZE)\n",
        "            if filename.endswith('.zip'):\n",
        "              with ZipFile(tfile) as zfile:\n",
        "                zfile.extractall(destination_path)\n",
        "            else:\n",
        "              with tarfile.open(tfile.name) as tarfile:\n",
        "                tarfile.extractall(destination_path)\n",
        "            print(f'\\nDownloaded and uncompressed: {directory}')\n",
        "    except HTTPError as e:\n",
        "        print(f'Failed to load (likely expired) {download_url} to path {destination_path}')\n",
        "        continue\n",
        "    except OSError as e:\n",
        "        print(f'Failed to load {download_url} to path {destination_path}')\n",
        "        continue\n",
        "\n",
        "print('Data source import complete.')\n"
      ],
      "metadata": {
        "id": "MmveQklOiHih",
        "outputId": "a97c2f53-12c5-4176-b20c-68d480c16f8d",
        "colab": {
          "base_uri": "https://localhost:8080/"
        }
      },
      "cell_type": "code",
      "outputs": [
        {
          "output_type": "stream",
          "name": "stdout",
          "text": [
            "Downloading sentiment-prediction-on-movie-reviews, 21802216 bytes compressed\n",
            "[==================================================] 21802216 bytes downloaded\n",
            "Downloaded and uncompressed: sentiment-prediction-on-movie-reviews\n",
            "Data source import complete.\n"
          ]
        }
      ],
      "execution_count": null
    },
    {
      "cell_type": "code",
      "source": [
        "# This Python 3 environment comes with many helpful analytics libraries installed\n",
        "# It is defined by the kaggle/python Docker image: https://github.com/kaggle/docker-python\n",
        "# For example, here's several helpful packages to load\n",
        "\n",
        "import numpy as np # linear algebra\n",
        "import pandas as pd # data processing, CSV file I/O (e.g. pd.read_csv)\n",
        "\n",
        "# Input data files are available in the read-only \"../input/\" directory\n",
        "# For example, running this (by clicking run or pressing Shift+Enter) will list all files under the input directory\n",
        "\n",
        "import os\n",
        "for dirname, _, filenames in os.walk('/kaggle/input'):\n",
        "    for filename in filenames:\n",
        "        print(os.path.join(dirname, filename))\n",
        "\n",
        "# You can write up to 20GB to the current directory (/kaggle/working/) that gets preserved as output when you create a version using \"Save & Run All\"\n",
        "# You can also write temporary files to /kaggle/temp/, but they won't be saved outside of the current session"
      ],
      "metadata": {
        "_uuid": "8f2839f25d086af736a60e9eeb907d3b93b6e0e5",
        "_cell_guid": "b1076dfc-b9ad-4769-8c92-a6c4dae69d19",
        "execution": {
          "iopub.status.busy": "2023-08-27T07:40:30.514364Z",
          "iopub.execute_input": "2023-08-27T07:40:30.515485Z",
          "iopub.status.idle": "2023-08-27T07:40:30.555734Z",
          "shell.execute_reply.started": "2023-08-27T07:40:30.515442Z",
          "shell.execute_reply": "2023-08-27T07:40:30.554929Z"
        },
        "trusted": true,
        "id": "8dPcMlaeiHik",
        "outputId": "bd826156-e2fc-4532-c9c9-36692151fa63",
        "colab": {
          "base_uri": "https://localhost:8080/"
        }
      },
      "execution_count": null,
      "outputs": [
        {
          "output_type": "stream",
          "name": "stdout",
          "text": [
            "/kaggle/input/sentiment-prediction-on-movie-reviews/sample.csv\n",
            "/kaggle/input/sentiment-prediction-on-movie-reviews/train.csv\n",
            "/kaggle/input/sentiment-prediction-on-movie-reviews/test.csv\n",
            "/kaggle/input/sentiment-prediction-on-movie-reviews/movies.csv\n"
          ]
        }
      ]
    },
    {
      "cell_type": "markdown",
      "source": [
        "# Libraries used in project"
      ],
      "metadata": {
        "id": "HQPAtmQ_iHil"
      }
    },
    {
      "cell_type": "code",
      "source": [
        "import numpy as np\n",
        "import pandas as pd\n",
        "import matplotlib.pyplot as plt\n",
        "import seaborn as sns\n",
        "from sklearn.dummy import DummyClassifier\n",
        "from sklearn.preprocessing import LabelEncoder\n",
        "from sklearn.feature_extraction.text import TfidfVectorizer\n",
        "from sklearn.pipeline import Pipeline\n",
        "from sklearn.linear_model import LogisticRegression\n",
        "from sklearn.model_selection import train_test_split\n",
        "from sklearn.svm import LinearSVC\n",
        "from sklearn.metrics import accuracy_score, f1_score, classification_report, confusion_matrix\n",
        "from sklearn.pipeline import Pipeline\n",
        "from sklearn.model_selection import RandomizedSearchCV\n",
        "from scipy.stats import uniform\n",
        "from sklearn.svm import LinearSVC\n",
        "from sklearn.ensemble import AdaBoostClassifier\n",
        "from sklearn.ensemble import BaggingClassifier\n",
        "from sklearn.ensemble import ExtraTreesClassifier\n",
        "from xgboost import XGBClassifier\n",
        "from sklearn.naive_bayes import GaussianNB\n",
        "from sklearn.neighbors import KNeighborsClassifier\n",
        "from sklearn.neural_network import MLPClassifier\n",
        "from sklearn.ensemble import GradientBoostingClassifier\n",
        "from sklearn.tree import DecisionTreeClassifier\n",
        "from sklearn.ensemble import RandomForestClassifier\n",
        "from sklearn.linear_model import RidgeClassifier\n"
      ],
      "metadata": {
        "execution": {
          "iopub.status.busy": "2023-08-27T07:40:35.525905Z",
          "iopub.execute_input": "2023-08-27T07:40:35.526324Z",
          "iopub.status.idle": "2023-08-27T07:40:37.251188Z",
          "shell.execute_reply.started": "2023-08-27T07:40:35.526297Z",
          "shell.execute_reply": "2023-08-27T07:40:37.250083Z"
        },
        "trusted": true,
        "id": "5W7-O7toiHim"
      },
      "execution_count": null,
      "outputs": []
    },
    {
      "cell_type": "markdown",
      "source": [
        "# Data Reading"
      ],
      "metadata": {
        "id": "f7XgX9SwiHim"
      }
    },
    {
      "cell_type": "code",
      "source": [
        "df = pd.read_csv(\"/kaggle/input/sentiment-prediction-on-movie-reviews/train.csv\")\n",
        "df_test = pd.read_csv('/kaggle/input/sentiment-prediction-on-movie-reviews/test.csv')\n",
        "df_movie = pd.read_csv(\"/kaggle/input/sentiment-prediction-on-movie-reviews/movies.csv\")"
      ],
      "metadata": {
        "execution": {
          "iopub.status.busy": "2023-08-27T07:40:37.253429Z",
          "iopub.execute_input": "2023-08-27T07:40:37.253908Z",
          "iopub.status.idle": "2023-08-27T07:40:39.499928Z",
          "shell.execute_reply.started": "2023-08-27T07:40:37.253824Z",
          "shell.execute_reply": "2023-08-27T07:40:39.498532Z"
        },
        "trusted": true,
        "id": "DBVj-3kFiHim"
      },
      "execution_count": null,
      "outputs": []
    },
    {
      "cell_type": "code",
      "source": [
        "train = pd.read_csv('/kaggle/input/sentiment-prediction-on-movie-reviews/train.csv')\n",
        "movies = pd.read_csv('/kaggle/input/sentiment-prediction-on-movie-reviews/movies.csv')\n",
        "df_test = pd.read_csv(\"/kaggle/input/sentiment-prediction-on-movie-reviews/test.csv\")\n",
        "\n"
      ],
      "metadata": {
        "execution": {
          "iopub.status.busy": "2023-08-27T07:40:39.501173Z",
          "iopub.execute_input": "2023-08-27T07:40:39.503121Z",
          "iopub.status.idle": "2023-08-27T07:40:40.915099Z",
          "shell.execute_reply.started": "2023-08-27T07:40:39.50309Z",
          "shell.execute_reply": "2023-08-27T07:40:40.914087Z"
        },
        "trusted": true,
        "id": "WesyAieriHin"
      },
      "execution_count": null,
      "outputs": []
    },
    {
      "cell_type": "markdown",
      "source": [
        "### merging movies dataset"
      ],
      "metadata": {
        "id": "HbMD5h0xiHin"
      }
    },
    {
      "cell_type": "code",
      "source": [
        "movies = movies.drop_duplicates(subset = 'movieid')\n",
        "merge = pd.merge(train, movies, on = 'movieid', how = 'left')\n",
        "merge_test = pd.merge(df_test, movies, on = \"movieid\", how =\"left\")"
      ],
      "metadata": {
        "execution": {
          "iopub.status.busy": "2023-08-27T07:40:40.917253Z",
          "iopub.execute_input": "2023-08-27T07:40:40.917608Z",
          "iopub.status.idle": "2023-08-27T07:40:41.343707Z",
          "shell.execute_reply.started": "2023-08-27T07:40:40.917577Z",
          "shell.execute_reply": "2023-08-27T07:40:41.342649Z"
        },
        "trusted": true,
        "id": "FRdOHLEdiHin"
      },
      "execution_count": null,
      "outputs": []
    },
    {
      "cell_type": "code",
      "source": [
        "merge_test.rename(columns={'isTopCritic':'isFrequentReviewer'}, inplace = True)"
      ],
      "metadata": {
        "execution": {
          "iopub.status.busy": "2023-08-27T07:40:41.344939Z",
          "iopub.execute_input": "2023-08-27T07:40:41.345821Z",
          "iopub.status.idle": "2023-08-27T07:40:41.351435Z",
          "shell.execute_reply.started": "2023-08-27T07:40:41.345789Z",
          "shell.execute_reply": "2023-08-27T07:40:41.350247Z"
        },
        "trusted": true,
        "id": "zpGoBhEqiHio"
      },
      "execution_count": null,
      "outputs": []
    },
    {
      "cell_type": "code",
      "source": [
        "merge_test.head()"
      ],
      "metadata": {
        "execution": {
          "iopub.status.busy": "2023-08-27T07:40:41.353094Z",
          "iopub.execute_input": "2023-08-27T07:40:41.353442Z",
          "iopub.status.idle": "2023-08-27T07:40:41.401892Z",
          "shell.execute_reply.started": "2023-08-27T07:40:41.353412Z",
          "shell.execute_reply": "2023-08-27T07:40:41.400602Z"
        },
        "trusted": true,
        "id": "VhA5rW_YiHio",
        "outputId": "86ab0409-6307-4b43-d64f-646033d3fdc7",
        "colab": {
          "base_uri": "https://localhost:8080/",
          "height": 625
        }
      },
      "execution_count": null,
      "outputs": [
        {
          "output_type": "execute_result",
          "data": {
            "text/plain": [
              "                               movieid     reviewerName  isFrequentReviewer  \\\n",
              "0            legend_marty_mcfly_oracle         John Kim               False   \n",
              "1  terminator_katniss_everdeen_glimmer     Brian Chaney               False   \n",
              "2          james_bond_labyrinth_gollum  Danielle Parker               False   \n",
              "3            v_quest_han_solo_wondrous    Brittany Lane               False   \n",
              "4        enigma_hulk_surreal_starlight    Justin Willis               False   \n",
              "\n",
              "                                          reviewText  \\\n",
              "0  Green slowly cranks up the dread with style an...   \n",
              "1  Philip Noyce's direction is elegant and unforc...   \n",
              "2  It wouldn't do to say what path Maria ultimate...   \n",
              "3  Pig is not exactly the arthouse John Wick that...   \n",
              "4  An imaginative no-budget musical of sorts abou...   \n",
              "\n",
              "                                 title  audienceScore rating  \\\n",
              "0            Legend Marty McFly Oracle           57.0      R   \n",
              "1  Terminator Katniss Everdeen Glimmer           86.0     PG   \n",
              "2          James Bond Labyrinth Gollum           62.0    NaN   \n",
              "3            V Quest Han Solo Wondrous           84.0    NaN   \n",
              "4        Enigma Hulk Surreal Starlight            NaN    NaN   \n",
              "\n",
              "                                      ratingContents releaseDateTheaters  \\\n",
              "0  ['Gore', 'Bloody Horror Violence', 'Language T...          2022-10-14   \n",
              "1                    ['Emotional Thematic Material']          2002-11-29   \n",
              "2                                                NaN                 NaN   \n",
              "3                                                NaN          2021-07-16   \n",
              "4                                                NaN                 NaN   \n",
              "\n",
              "  releaseDateStreaming  runtimeMinutes                                genre  \\\n",
              "0           2022-10-14           111.0  Holiday, Horror, Mystery & thriller   \n",
              "1           2003-04-15            94.0                     Drama, Adventure   \n",
              "2                  NaN             NaN                                Drama   \n",
              "3           2021-08-03            92.0            Drama, Mystery & thriller   \n",
              "4                  NaN            66.0                       Drama, Musical   \n",
              "\n",
              "  originalLanguage           director boxOffice         distributor  \\\n",
              "0          English       Sara Barnett    $64.0M  Universal Pictures   \n",
              "1          English      Cindy Flander     $6.2M       Miramax Films   \n",
              "2           French  Charlotte Bramble       NaN                 NaN   \n",
              "3          English        Jean Gainer     $3.1M                Neon   \n",
              "4           Arabic       Marvin Short       NaN                 NaN   \n",
              "\n",
              "                                           soundType  \n",
              "0                                        Dolby Atmos  \n",
              "1  Dolby SR, DTS, Dolby Stereo, Surround, SDDS, D...  \n",
              "2                                                NaN  \n",
              "3                                                NaN  \n",
              "4                                                NaN  "
            ],
            "text/html": [
              "\n",
              "  <div id=\"df-aa4d9b86-a9eb-4942-8398-f95a616cdc85\" class=\"colab-df-container\">\n",
              "    <div>\n",
              "<style scoped>\n",
              "    .dataframe tbody tr th:only-of-type {\n",
              "        vertical-align: middle;\n",
              "    }\n",
              "\n",
              "    .dataframe tbody tr th {\n",
              "        vertical-align: top;\n",
              "    }\n",
              "\n",
              "    .dataframe thead th {\n",
              "        text-align: right;\n",
              "    }\n",
              "</style>\n",
              "<table border=\"1\" class=\"dataframe\">\n",
              "  <thead>\n",
              "    <tr style=\"text-align: right;\">\n",
              "      <th></th>\n",
              "      <th>movieid</th>\n",
              "      <th>reviewerName</th>\n",
              "      <th>isFrequentReviewer</th>\n",
              "      <th>reviewText</th>\n",
              "      <th>title</th>\n",
              "      <th>audienceScore</th>\n",
              "      <th>rating</th>\n",
              "      <th>ratingContents</th>\n",
              "      <th>releaseDateTheaters</th>\n",
              "      <th>releaseDateStreaming</th>\n",
              "      <th>runtimeMinutes</th>\n",
              "      <th>genre</th>\n",
              "      <th>originalLanguage</th>\n",
              "      <th>director</th>\n",
              "      <th>boxOffice</th>\n",
              "      <th>distributor</th>\n",
              "      <th>soundType</th>\n",
              "    </tr>\n",
              "  </thead>\n",
              "  <tbody>\n",
              "    <tr>\n",
              "      <th>0</th>\n",
              "      <td>legend_marty_mcfly_oracle</td>\n",
              "      <td>John Kim</td>\n",
              "      <td>False</td>\n",
              "      <td>Green slowly cranks up the dread with style an...</td>\n",
              "      <td>Legend Marty McFly Oracle</td>\n",
              "      <td>57.0</td>\n",
              "      <td>R</td>\n",
              "      <td>['Gore', 'Bloody Horror Violence', 'Language T...</td>\n",
              "      <td>2022-10-14</td>\n",
              "      <td>2022-10-14</td>\n",
              "      <td>111.0</td>\n",
              "      <td>Holiday, Horror, Mystery &amp; thriller</td>\n",
              "      <td>English</td>\n",
              "      <td>Sara Barnett</td>\n",
              "      <td>$64.0M</td>\n",
              "      <td>Universal Pictures</td>\n",
              "      <td>Dolby Atmos</td>\n",
              "    </tr>\n",
              "    <tr>\n",
              "      <th>1</th>\n",
              "      <td>terminator_katniss_everdeen_glimmer</td>\n",
              "      <td>Brian Chaney</td>\n",
              "      <td>False</td>\n",
              "      <td>Philip Noyce's direction is elegant and unforc...</td>\n",
              "      <td>Terminator Katniss Everdeen Glimmer</td>\n",
              "      <td>86.0</td>\n",
              "      <td>PG</td>\n",
              "      <td>['Emotional Thematic Material']</td>\n",
              "      <td>2002-11-29</td>\n",
              "      <td>2003-04-15</td>\n",
              "      <td>94.0</td>\n",
              "      <td>Drama, Adventure</td>\n",
              "      <td>English</td>\n",
              "      <td>Cindy Flander</td>\n",
              "      <td>$6.2M</td>\n",
              "      <td>Miramax Films</td>\n",
              "      <td>Dolby SR, DTS, Dolby Stereo, Surround, SDDS, D...</td>\n",
              "    </tr>\n",
              "    <tr>\n",
              "      <th>2</th>\n",
              "      <td>james_bond_labyrinth_gollum</td>\n",
              "      <td>Danielle Parker</td>\n",
              "      <td>False</td>\n",
              "      <td>It wouldn't do to say what path Maria ultimate...</td>\n",
              "      <td>James Bond Labyrinth Gollum</td>\n",
              "      <td>62.0</td>\n",
              "      <td>NaN</td>\n",
              "      <td>NaN</td>\n",
              "      <td>NaN</td>\n",
              "      <td>NaN</td>\n",
              "      <td>NaN</td>\n",
              "      <td>Drama</td>\n",
              "      <td>French</td>\n",
              "      <td>Charlotte Bramble</td>\n",
              "      <td>NaN</td>\n",
              "      <td>NaN</td>\n",
              "      <td>NaN</td>\n",
              "    </tr>\n",
              "    <tr>\n",
              "      <th>3</th>\n",
              "      <td>v_quest_han_solo_wondrous</td>\n",
              "      <td>Brittany Lane</td>\n",
              "      <td>False</td>\n",
              "      <td>Pig is not exactly the arthouse John Wick that...</td>\n",
              "      <td>V Quest Han Solo Wondrous</td>\n",
              "      <td>84.0</td>\n",
              "      <td>NaN</td>\n",
              "      <td>NaN</td>\n",
              "      <td>2021-07-16</td>\n",
              "      <td>2021-08-03</td>\n",
              "      <td>92.0</td>\n",
              "      <td>Drama, Mystery &amp; thriller</td>\n",
              "      <td>English</td>\n",
              "      <td>Jean Gainer</td>\n",
              "      <td>$3.1M</td>\n",
              "      <td>Neon</td>\n",
              "      <td>NaN</td>\n",
              "    </tr>\n",
              "    <tr>\n",
              "      <th>4</th>\n",
              "      <td>enigma_hulk_surreal_starlight</td>\n",
              "      <td>Justin Willis</td>\n",
              "      <td>False</td>\n",
              "      <td>An imaginative no-budget musical of sorts abou...</td>\n",
              "      <td>Enigma Hulk Surreal Starlight</td>\n",
              "      <td>NaN</td>\n",
              "      <td>NaN</td>\n",
              "      <td>NaN</td>\n",
              "      <td>NaN</td>\n",
              "      <td>NaN</td>\n",
              "      <td>66.0</td>\n",
              "      <td>Drama, Musical</td>\n",
              "      <td>Arabic</td>\n",
              "      <td>Marvin Short</td>\n",
              "      <td>NaN</td>\n",
              "      <td>NaN</td>\n",
              "      <td>NaN</td>\n",
              "    </tr>\n",
              "  </tbody>\n",
              "</table>\n",
              "</div>\n",
              "    <div class=\"colab-df-buttons\">\n",
              "\n",
              "  <div class=\"colab-df-container\">\n",
              "    <button class=\"colab-df-convert\" onclick=\"convertToInteractive('df-aa4d9b86-a9eb-4942-8398-f95a616cdc85')\"\n",
              "            title=\"Convert this dataframe to an interactive table.\"\n",
              "            style=\"display:none;\">\n",
              "\n",
              "  <svg xmlns=\"http://www.w3.org/2000/svg\" height=\"24px\" viewBox=\"0 -960 960 960\">\n",
              "    <path d=\"M120-120v-720h720v720H120Zm60-500h600v-160H180v160Zm220 220h160v-160H400v160Zm0 220h160v-160H400v160ZM180-400h160v-160H180v160Zm440 0h160v-160H620v160ZM180-180h160v-160H180v160Zm440 0h160v-160H620v160Z\"/>\n",
              "  </svg>\n",
              "    </button>\n",
              "\n",
              "  <style>\n",
              "    .colab-df-container {\n",
              "      display:flex;\n",
              "      gap: 12px;\n",
              "    }\n",
              "\n",
              "    .colab-df-convert {\n",
              "      background-color: #E8F0FE;\n",
              "      border: none;\n",
              "      border-radius: 50%;\n",
              "      cursor: pointer;\n",
              "      display: none;\n",
              "      fill: #1967D2;\n",
              "      height: 32px;\n",
              "      padding: 0 0 0 0;\n",
              "      width: 32px;\n",
              "    }\n",
              "\n",
              "    .colab-df-convert:hover {\n",
              "      background-color: #E2EBFA;\n",
              "      box-shadow: 0px 1px 2px rgba(60, 64, 67, 0.3), 0px 1px 3px 1px rgba(60, 64, 67, 0.15);\n",
              "      fill: #174EA6;\n",
              "    }\n",
              "\n",
              "    .colab-df-buttons div {\n",
              "      margin-bottom: 4px;\n",
              "    }\n",
              "\n",
              "    [theme=dark] .colab-df-convert {\n",
              "      background-color: #3B4455;\n",
              "      fill: #D2E3FC;\n",
              "    }\n",
              "\n",
              "    [theme=dark] .colab-df-convert:hover {\n",
              "      background-color: #434B5C;\n",
              "      box-shadow: 0px 1px 3px 1px rgba(0, 0, 0, 0.15);\n",
              "      filter: drop-shadow(0px 1px 2px rgba(0, 0, 0, 0.3));\n",
              "      fill: #FFFFFF;\n",
              "    }\n",
              "  </style>\n",
              "\n",
              "    <script>\n",
              "      const buttonEl =\n",
              "        document.querySelector('#df-aa4d9b86-a9eb-4942-8398-f95a616cdc85 button.colab-df-convert');\n",
              "      buttonEl.style.display =\n",
              "        google.colab.kernel.accessAllowed ? 'block' : 'none';\n",
              "\n",
              "      async function convertToInteractive(key) {\n",
              "        const element = document.querySelector('#df-aa4d9b86-a9eb-4942-8398-f95a616cdc85');\n",
              "        const dataTable =\n",
              "          await google.colab.kernel.invokeFunction('convertToInteractive',\n",
              "                                                    [key], {});\n",
              "        if (!dataTable) return;\n",
              "\n",
              "        const docLinkHtml = 'Like what you see? Visit the ' +\n",
              "          '<a target=\"_blank\" href=https://colab.research.google.com/notebooks/data_table.ipynb>data table notebook</a>'\n",
              "          + ' to learn more about interactive tables.';\n",
              "        element.innerHTML = '';\n",
              "        dataTable['output_type'] = 'display_data';\n",
              "        await google.colab.output.renderOutput(dataTable, element);\n",
              "        const docLink = document.createElement('div');\n",
              "        docLink.innerHTML = docLinkHtml;\n",
              "        element.appendChild(docLink);\n",
              "      }\n",
              "    </script>\n",
              "  </div>\n",
              "\n",
              "\n",
              "<div id=\"df-9d17f029-14a1-40b2-9be8-739db0d2dc0d\">\n",
              "  <button class=\"colab-df-quickchart\" onclick=\"quickchart('df-9d17f029-14a1-40b2-9be8-739db0d2dc0d')\"\n",
              "            title=\"Suggest charts\"\n",
              "            style=\"display:none;\">\n",
              "\n",
              "<svg xmlns=\"http://www.w3.org/2000/svg\" height=\"24px\"viewBox=\"0 0 24 24\"\n",
              "     width=\"24px\">\n",
              "    <g>\n",
              "        <path d=\"M19 3H5c-1.1 0-2 .9-2 2v14c0 1.1.9 2 2 2h14c1.1 0 2-.9 2-2V5c0-1.1-.9-2-2-2zM9 17H7v-7h2v7zm4 0h-2V7h2v10zm4 0h-2v-4h2v4z\"/>\n",
              "    </g>\n",
              "</svg>\n",
              "  </button>\n",
              "\n",
              "<style>\n",
              "  .colab-df-quickchart {\n",
              "      --bg-color: #E8F0FE;\n",
              "      --fill-color: #1967D2;\n",
              "      --hover-bg-color: #E2EBFA;\n",
              "      --hover-fill-color: #174EA6;\n",
              "      --disabled-fill-color: #AAA;\n",
              "      --disabled-bg-color: #DDD;\n",
              "  }\n",
              "\n",
              "  [theme=dark] .colab-df-quickchart {\n",
              "      --bg-color: #3B4455;\n",
              "      --fill-color: #D2E3FC;\n",
              "      --hover-bg-color: #434B5C;\n",
              "      --hover-fill-color: #FFFFFF;\n",
              "      --disabled-bg-color: #3B4455;\n",
              "      --disabled-fill-color: #666;\n",
              "  }\n",
              "\n",
              "  .colab-df-quickchart {\n",
              "    background-color: var(--bg-color);\n",
              "    border: none;\n",
              "    border-radius: 50%;\n",
              "    cursor: pointer;\n",
              "    display: none;\n",
              "    fill: var(--fill-color);\n",
              "    height: 32px;\n",
              "    padding: 0;\n",
              "    width: 32px;\n",
              "  }\n",
              "\n",
              "  .colab-df-quickchart:hover {\n",
              "    background-color: var(--hover-bg-color);\n",
              "    box-shadow: 0 1px 2px rgba(60, 64, 67, 0.3), 0 1px 3px 1px rgba(60, 64, 67, 0.15);\n",
              "    fill: var(--button-hover-fill-color);\n",
              "  }\n",
              "\n",
              "  .colab-df-quickchart-complete:disabled,\n",
              "  .colab-df-quickchart-complete:disabled:hover {\n",
              "    background-color: var(--disabled-bg-color);\n",
              "    fill: var(--disabled-fill-color);\n",
              "    box-shadow: none;\n",
              "  }\n",
              "\n",
              "  .colab-df-spinner {\n",
              "    border: 2px solid var(--fill-color);\n",
              "    border-color: transparent;\n",
              "    border-bottom-color: var(--fill-color);\n",
              "    animation:\n",
              "      spin 1s steps(1) infinite;\n",
              "  }\n",
              "\n",
              "  @keyframes spin {\n",
              "    0% {\n",
              "      border-color: transparent;\n",
              "      border-bottom-color: var(--fill-color);\n",
              "      border-left-color: var(--fill-color);\n",
              "    }\n",
              "    20% {\n",
              "      border-color: transparent;\n",
              "      border-left-color: var(--fill-color);\n",
              "      border-top-color: var(--fill-color);\n",
              "    }\n",
              "    30% {\n",
              "      border-color: transparent;\n",
              "      border-left-color: var(--fill-color);\n",
              "      border-top-color: var(--fill-color);\n",
              "      border-right-color: var(--fill-color);\n",
              "    }\n",
              "    40% {\n",
              "      border-color: transparent;\n",
              "      border-right-color: var(--fill-color);\n",
              "      border-top-color: var(--fill-color);\n",
              "    }\n",
              "    60% {\n",
              "      border-color: transparent;\n",
              "      border-right-color: var(--fill-color);\n",
              "    }\n",
              "    80% {\n",
              "      border-color: transparent;\n",
              "      border-right-color: var(--fill-color);\n",
              "      border-bottom-color: var(--fill-color);\n",
              "    }\n",
              "    90% {\n",
              "      border-color: transparent;\n",
              "      border-bottom-color: var(--fill-color);\n",
              "    }\n",
              "  }\n",
              "</style>\n",
              "\n",
              "  <script>\n",
              "    async function quickchart(key) {\n",
              "      const quickchartButtonEl =\n",
              "        document.querySelector('#' + key + ' button');\n",
              "      quickchartButtonEl.disabled = true;  // To prevent multiple clicks.\n",
              "      quickchartButtonEl.classList.add('colab-df-spinner');\n",
              "      try {\n",
              "        const charts = await google.colab.kernel.invokeFunction(\n",
              "            'suggestCharts', [key], {});\n",
              "      } catch (error) {\n",
              "        console.error('Error during call to suggestCharts:', error);\n",
              "      }\n",
              "      quickchartButtonEl.classList.remove('colab-df-spinner');\n",
              "      quickchartButtonEl.classList.add('colab-df-quickchart-complete');\n",
              "    }\n",
              "    (() => {\n",
              "      let quickchartButtonEl =\n",
              "        document.querySelector('#df-9d17f029-14a1-40b2-9be8-739db0d2dc0d button');\n",
              "      quickchartButtonEl.style.display =\n",
              "        google.colab.kernel.accessAllowed ? 'block' : 'none';\n",
              "    })();\n",
              "  </script>\n",
              "</div>\n",
              "\n",
              "    </div>\n",
              "  </div>\n"
            ],
            "application/vnd.google.colaboratory.intrinsic+json": {
              "type": "dataframe",
              "variable_name": "merge_test",
              "repr_error": "'str' object has no attribute 'empty'"
            }
          },
          "metadata": {},
          "execution_count": 8
        }
      ]
    },
    {
      "cell_type": "code",
      "source": [
        "train_set = merge[[\"reviewText\", \"audienceScore\", \"runtimeMinutes\",\"genre\", \"sentiment\",'rating','ratingContents','distributor','director','originalLanguage','boxOffice','reviewerName','movieid','title','isFrequentReviewer','releaseDateStreaming']]\n",
        "test_set = merge_test[[\"reviewText\", \"audienceScore\", \"runtimeMinutes\",\"genre\",'rating','ratingContents','distributor','director','originalLanguage','boxOffice','reviewerName','movieid','title','isFrequentReviewer','releaseDateStreaming']]\n",
        "y= train_set['sentiment']\n",
        "\n",
        "\n"
      ],
      "metadata": {
        "execution": {
          "iopub.status.busy": "2023-08-27T07:40:41.403434Z",
          "iopub.execute_input": "2023-08-27T07:40:41.404159Z",
          "iopub.status.idle": "2023-08-27T07:40:41.571911Z",
          "shell.execute_reply.started": "2023-08-27T07:40:41.404117Z",
          "shell.execute_reply": "2023-08-27T07:40:41.570922Z"
        },
        "trusted": true,
        "id": "jlC1r2IaiHio"
      },
      "execution_count": null,
      "outputs": []
    },
    {
      "cell_type": "code",
      "source": [
        "new_train, new_test, y_trai, y_tes = train_test_split(train_set,y, test_size = 0.2, random_state = 42)"
      ],
      "metadata": {
        "execution": {
          "iopub.status.busy": "2023-08-27T07:40:41.573358Z",
          "iopub.execute_input": "2023-08-27T07:40:41.573784Z",
          "iopub.status.idle": "2023-08-27T07:40:41.721315Z",
          "shell.execute_reply.started": "2023-08-27T07:40:41.573745Z",
          "shell.execute_reply": "2023-08-27T07:40:41.720393Z"
        },
        "trusted": true,
        "id": "IQAtb8eMiHio"
      },
      "execution_count": null,
      "outputs": []
    },
    {
      "cell_type": "code",
      "source": [
        "new_test.shape"
      ],
      "metadata": {
        "execution": {
          "iopub.status.busy": "2023-08-27T07:40:41.722506Z",
          "iopub.execute_input": "2023-08-27T07:40:41.723521Z",
          "iopub.status.idle": "2023-08-27T07:40:41.729572Z",
          "shell.execute_reply.started": "2023-08-27T07:40:41.723485Z",
          "shell.execute_reply": "2023-08-27T07:40:41.728745Z"
        },
        "trusted": true,
        "id": "PMNhU_UdiHip",
        "outputId": "a79df6bd-1fe4-4301-95ef-4c1b1c0f29f3",
        "colab": {
          "base_uri": "https://localhost:8080/"
        }
      },
      "execution_count": null,
      "outputs": [
        {
          "output_type": "execute_result",
          "data": {
            "text/plain": [
              "(32552, 16)"
            ]
          },
          "metadata": {},
          "execution_count": 11
        }
      ]
    },
    {
      "cell_type": "code",
      "source": [
        "new_train.isna().sum()"
      ],
      "metadata": {
        "execution": {
          "iopub.status.busy": "2023-08-27T07:40:41.732202Z",
          "iopub.execute_input": "2023-08-27T07:40:41.73291Z",
          "iopub.status.idle": "2023-08-27T07:40:42.025526Z",
          "shell.execute_reply.started": "2023-08-27T07:40:41.732876Z",
          "shell.execute_reply": "2023-08-27T07:40:42.024705Z"
        },
        "trusted": true,
        "id": "FnVxEPqdiHip",
        "outputId": "a51185b0-179f-4d75-80f0-6cfc28f653f3",
        "colab": {
          "base_uri": "https://localhost:8080/"
        }
      },
      "execution_count": null,
      "outputs": [
        {
          "output_type": "execute_result",
          "data": {
            "text/plain": [
              "reviewText               5228\n",
              "audienceScore           10617\n",
              "runtimeMinutes           2695\n",
              "genre                    1964\n",
              "sentiment                   0\n",
              "rating                  51013\n",
              "ratingContents          51013\n",
              "distributor             32570\n",
              "director                    0\n",
              "originalLanguage         2648\n",
              "boxOffice               42186\n",
              "reviewerName                0\n",
              "movieid                     0\n",
              "title                       0\n",
              "isFrequentReviewer          0\n",
              "releaseDateStreaming    12916\n",
              "dtype: int64"
            ]
          },
          "metadata": {},
          "execution_count": 12
        }
      ]
    },
    {
      "cell_type": "code",
      "source": [
        "new_train.info()"
      ],
      "metadata": {
        "execution": {
          "iopub.status.busy": "2023-08-27T07:40:42.026646Z",
          "iopub.execute_input": "2023-08-27T07:40:42.027295Z",
          "iopub.status.idle": "2023-08-27T07:40:42.319884Z",
          "shell.execute_reply.started": "2023-08-27T07:40:42.027262Z",
          "shell.execute_reply": "2023-08-27T07:40:42.318646Z"
        },
        "trusted": true,
        "id": "JjYMTsskiHip",
        "outputId": "d0502ac5-41e4-4a6e-a2e4-3b32f1efee65",
        "colab": {
          "base_uri": "https://localhost:8080/"
        }
      },
      "execution_count": null,
      "outputs": [
        {
          "output_type": "stream",
          "name": "stdout",
          "text": [
            "<class 'pandas.core.frame.DataFrame'>\n",
            "Int64Index: 130206 entries, 116975 to 121958\n",
            "Data columns (total 16 columns):\n",
            " #   Column                Non-Null Count   Dtype  \n",
            "---  ------                --------------   -----  \n",
            " 0   reviewText            124978 non-null  object \n",
            " 1   audienceScore         119589 non-null  float64\n",
            " 2   runtimeMinutes        127511 non-null  float64\n",
            " 3   genre                 128242 non-null  object \n",
            " 4   sentiment             130206 non-null  object \n",
            " 5   rating                79193 non-null   object \n",
            " 6   ratingContents        79193 non-null   object \n",
            " 7   distributor           97636 non-null   object \n",
            " 8   director              130206 non-null  object \n",
            " 9   originalLanguage      127558 non-null  object \n",
            " 10  boxOffice             88020 non-null   object \n",
            " 11  reviewerName          130206 non-null  object \n",
            " 12  movieid               130206 non-null  object \n",
            " 13  title                 130206 non-null  object \n",
            " 14  isFrequentReviewer    130206 non-null  bool   \n",
            " 15  releaseDateStreaming  117290 non-null  object \n",
            "dtypes: bool(1), float64(2), object(13)\n",
            "memory usage: 16.0+ MB\n"
          ]
        }
      ]
    },
    {
      "cell_type": "code",
      "source": [
        "new_train.describe()"
      ],
      "metadata": {
        "execution": {
          "iopub.status.busy": "2023-08-27T07:40:42.321099Z",
          "iopub.execute_input": "2023-08-27T07:40:42.321433Z",
          "iopub.status.idle": "2023-08-27T07:40:42.359691Z",
          "shell.execute_reply.started": "2023-08-27T07:40:42.321403Z",
          "shell.execute_reply": "2023-08-27T07:40:42.358596Z"
        },
        "trusted": true,
        "id": "oe-reSi3iHip",
        "outputId": "4a1f3de0-bb2e-4a28-fb22-fe951e192a27",
        "colab": {
          "base_uri": "https://localhost:8080/",
          "height": 300
        }
      },
      "execution_count": null,
      "outputs": [
        {
          "output_type": "execute_result",
          "data": {
            "text/plain": [
              "       audienceScore  runtimeMinutes\n",
              "count  119589.000000   127511.000000\n",
              "mean       65.240030      106.889406\n",
              "std        19.938553       22.170459\n",
              "min         0.000000        4.000000\n",
              "25%        51.000000       93.000000\n",
              "50%        68.000000      104.000000\n",
              "75%        82.000000      118.000000\n",
              "max       100.000000      561.000000"
            ],
            "text/html": [
              "\n",
              "  <div id=\"df-79933cbe-ffbc-45eb-b55d-20b27f3b08f3\" class=\"colab-df-container\">\n",
              "    <div>\n",
              "<style scoped>\n",
              "    .dataframe tbody tr th:only-of-type {\n",
              "        vertical-align: middle;\n",
              "    }\n",
              "\n",
              "    .dataframe tbody tr th {\n",
              "        vertical-align: top;\n",
              "    }\n",
              "\n",
              "    .dataframe thead th {\n",
              "        text-align: right;\n",
              "    }\n",
              "</style>\n",
              "<table border=\"1\" class=\"dataframe\">\n",
              "  <thead>\n",
              "    <tr style=\"text-align: right;\">\n",
              "      <th></th>\n",
              "      <th>audienceScore</th>\n",
              "      <th>runtimeMinutes</th>\n",
              "    </tr>\n",
              "  </thead>\n",
              "  <tbody>\n",
              "    <tr>\n",
              "      <th>count</th>\n",
              "      <td>119589.000000</td>\n",
              "      <td>127511.000000</td>\n",
              "    </tr>\n",
              "    <tr>\n",
              "      <th>mean</th>\n",
              "      <td>65.240030</td>\n",
              "      <td>106.889406</td>\n",
              "    </tr>\n",
              "    <tr>\n",
              "      <th>std</th>\n",
              "      <td>19.938553</td>\n",
              "      <td>22.170459</td>\n",
              "    </tr>\n",
              "    <tr>\n",
              "      <th>min</th>\n",
              "      <td>0.000000</td>\n",
              "      <td>4.000000</td>\n",
              "    </tr>\n",
              "    <tr>\n",
              "      <th>25%</th>\n",
              "      <td>51.000000</td>\n",
              "      <td>93.000000</td>\n",
              "    </tr>\n",
              "    <tr>\n",
              "      <th>50%</th>\n",
              "      <td>68.000000</td>\n",
              "      <td>104.000000</td>\n",
              "    </tr>\n",
              "    <tr>\n",
              "      <th>75%</th>\n",
              "      <td>82.000000</td>\n",
              "      <td>118.000000</td>\n",
              "    </tr>\n",
              "    <tr>\n",
              "      <th>max</th>\n",
              "      <td>100.000000</td>\n",
              "      <td>561.000000</td>\n",
              "    </tr>\n",
              "  </tbody>\n",
              "</table>\n",
              "</div>\n",
              "    <div class=\"colab-df-buttons\">\n",
              "\n",
              "  <div class=\"colab-df-container\">\n",
              "    <button class=\"colab-df-convert\" onclick=\"convertToInteractive('df-79933cbe-ffbc-45eb-b55d-20b27f3b08f3')\"\n",
              "            title=\"Convert this dataframe to an interactive table.\"\n",
              "            style=\"display:none;\">\n",
              "\n",
              "  <svg xmlns=\"http://www.w3.org/2000/svg\" height=\"24px\" viewBox=\"0 -960 960 960\">\n",
              "    <path d=\"M120-120v-720h720v720H120Zm60-500h600v-160H180v160Zm220 220h160v-160H400v160Zm0 220h160v-160H400v160ZM180-400h160v-160H180v160Zm440 0h160v-160H620v160ZM180-180h160v-160H180v160Zm440 0h160v-160H620v160Z\"/>\n",
              "  </svg>\n",
              "    </button>\n",
              "\n",
              "  <style>\n",
              "    .colab-df-container {\n",
              "      display:flex;\n",
              "      gap: 12px;\n",
              "    }\n",
              "\n",
              "    .colab-df-convert {\n",
              "      background-color: #E8F0FE;\n",
              "      border: none;\n",
              "      border-radius: 50%;\n",
              "      cursor: pointer;\n",
              "      display: none;\n",
              "      fill: #1967D2;\n",
              "      height: 32px;\n",
              "      padding: 0 0 0 0;\n",
              "      width: 32px;\n",
              "    }\n",
              "\n",
              "    .colab-df-convert:hover {\n",
              "      background-color: #E2EBFA;\n",
              "      box-shadow: 0px 1px 2px rgba(60, 64, 67, 0.3), 0px 1px 3px 1px rgba(60, 64, 67, 0.15);\n",
              "      fill: #174EA6;\n",
              "    }\n",
              "\n",
              "    .colab-df-buttons div {\n",
              "      margin-bottom: 4px;\n",
              "    }\n",
              "\n",
              "    [theme=dark] .colab-df-convert {\n",
              "      background-color: #3B4455;\n",
              "      fill: #D2E3FC;\n",
              "    }\n",
              "\n",
              "    [theme=dark] .colab-df-convert:hover {\n",
              "      background-color: #434B5C;\n",
              "      box-shadow: 0px 1px 3px 1px rgba(0, 0, 0, 0.15);\n",
              "      filter: drop-shadow(0px 1px 2px rgba(0, 0, 0, 0.3));\n",
              "      fill: #FFFFFF;\n",
              "    }\n",
              "  </style>\n",
              "\n",
              "    <script>\n",
              "      const buttonEl =\n",
              "        document.querySelector('#df-79933cbe-ffbc-45eb-b55d-20b27f3b08f3 button.colab-df-convert');\n",
              "      buttonEl.style.display =\n",
              "        google.colab.kernel.accessAllowed ? 'block' : 'none';\n",
              "\n",
              "      async function convertToInteractive(key) {\n",
              "        const element = document.querySelector('#df-79933cbe-ffbc-45eb-b55d-20b27f3b08f3');\n",
              "        const dataTable =\n",
              "          await google.colab.kernel.invokeFunction('convertToInteractive',\n",
              "                                                    [key], {});\n",
              "        if (!dataTable) return;\n",
              "\n",
              "        const docLinkHtml = 'Like what you see? Visit the ' +\n",
              "          '<a target=\"_blank\" href=https://colab.research.google.com/notebooks/data_table.ipynb>data table notebook</a>'\n",
              "          + ' to learn more about interactive tables.';\n",
              "        element.innerHTML = '';\n",
              "        dataTable['output_type'] = 'display_data';\n",
              "        await google.colab.output.renderOutput(dataTable, element);\n",
              "        const docLink = document.createElement('div');\n",
              "        docLink.innerHTML = docLinkHtml;\n",
              "        element.appendChild(docLink);\n",
              "      }\n",
              "    </script>\n",
              "  </div>\n",
              "\n",
              "\n",
              "<div id=\"df-53919c4b-d050-4b6c-b04a-49327cc204dc\">\n",
              "  <button class=\"colab-df-quickchart\" onclick=\"quickchart('df-53919c4b-d050-4b6c-b04a-49327cc204dc')\"\n",
              "            title=\"Suggest charts\"\n",
              "            style=\"display:none;\">\n",
              "\n",
              "<svg xmlns=\"http://www.w3.org/2000/svg\" height=\"24px\"viewBox=\"0 0 24 24\"\n",
              "     width=\"24px\">\n",
              "    <g>\n",
              "        <path d=\"M19 3H5c-1.1 0-2 .9-2 2v14c0 1.1.9 2 2 2h14c1.1 0 2-.9 2-2V5c0-1.1-.9-2-2-2zM9 17H7v-7h2v7zm4 0h-2V7h2v10zm4 0h-2v-4h2v4z\"/>\n",
              "    </g>\n",
              "</svg>\n",
              "  </button>\n",
              "\n",
              "<style>\n",
              "  .colab-df-quickchart {\n",
              "      --bg-color: #E8F0FE;\n",
              "      --fill-color: #1967D2;\n",
              "      --hover-bg-color: #E2EBFA;\n",
              "      --hover-fill-color: #174EA6;\n",
              "      --disabled-fill-color: #AAA;\n",
              "      --disabled-bg-color: #DDD;\n",
              "  }\n",
              "\n",
              "  [theme=dark] .colab-df-quickchart {\n",
              "      --bg-color: #3B4455;\n",
              "      --fill-color: #D2E3FC;\n",
              "      --hover-bg-color: #434B5C;\n",
              "      --hover-fill-color: #FFFFFF;\n",
              "      --disabled-bg-color: #3B4455;\n",
              "      --disabled-fill-color: #666;\n",
              "  }\n",
              "\n",
              "  .colab-df-quickchart {\n",
              "    background-color: var(--bg-color);\n",
              "    border: none;\n",
              "    border-radius: 50%;\n",
              "    cursor: pointer;\n",
              "    display: none;\n",
              "    fill: var(--fill-color);\n",
              "    height: 32px;\n",
              "    padding: 0;\n",
              "    width: 32px;\n",
              "  }\n",
              "\n",
              "  .colab-df-quickchart:hover {\n",
              "    background-color: var(--hover-bg-color);\n",
              "    box-shadow: 0 1px 2px rgba(60, 64, 67, 0.3), 0 1px 3px 1px rgba(60, 64, 67, 0.15);\n",
              "    fill: var(--button-hover-fill-color);\n",
              "  }\n",
              "\n",
              "  .colab-df-quickchart-complete:disabled,\n",
              "  .colab-df-quickchart-complete:disabled:hover {\n",
              "    background-color: var(--disabled-bg-color);\n",
              "    fill: var(--disabled-fill-color);\n",
              "    box-shadow: none;\n",
              "  }\n",
              "\n",
              "  .colab-df-spinner {\n",
              "    border: 2px solid var(--fill-color);\n",
              "    border-color: transparent;\n",
              "    border-bottom-color: var(--fill-color);\n",
              "    animation:\n",
              "      spin 1s steps(1) infinite;\n",
              "  }\n",
              "\n",
              "  @keyframes spin {\n",
              "    0% {\n",
              "      border-color: transparent;\n",
              "      border-bottom-color: var(--fill-color);\n",
              "      border-left-color: var(--fill-color);\n",
              "    }\n",
              "    20% {\n",
              "      border-color: transparent;\n",
              "      border-left-color: var(--fill-color);\n",
              "      border-top-color: var(--fill-color);\n",
              "    }\n",
              "    30% {\n",
              "      border-color: transparent;\n",
              "      border-left-color: var(--fill-color);\n",
              "      border-top-color: var(--fill-color);\n",
              "      border-right-color: var(--fill-color);\n",
              "    }\n",
              "    40% {\n",
              "      border-color: transparent;\n",
              "      border-right-color: var(--fill-color);\n",
              "      border-top-color: var(--fill-color);\n",
              "    }\n",
              "    60% {\n",
              "      border-color: transparent;\n",
              "      border-right-color: var(--fill-color);\n",
              "    }\n",
              "    80% {\n",
              "      border-color: transparent;\n",
              "      border-right-color: var(--fill-color);\n",
              "      border-bottom-color: var(--fill-color);\n",
              "    }\n",
              "    90% {\n",
              "      border-color: transparent;\n",
              "      border-bottom-color: var(--fill-color);\n",
              "    }\n",
              "  }\n",
              "</style>\n",
              "\n",
              "  <script>\n",
              "    async function quickchart(key) {\n",
              "      const quickchartButtonEl =\n",
              "        document.querySelector('#' + key + ' button');\n",
              "      quickchartButtonEl.disabled = true;  // To prevent multiple clicks.\n",
              "      quickchartButtonEl.classList.add('colab-df-spinner');\n",
              "      try {\n",
              "        const charts = await google.colab.kernel.invokeFunction(\n",
              "            'suggestCharts', [key], {});\n",
              "      } catch (error) {\n",
              "        console.error('Error during call to suggestCharts:', error);\n",
              "      }\n",
              "      quickchartButtonEl.classList.remove('colab-df-spinner');\n",
              "      quickchartButtonEl.classList.add('colab-df-quickchart-complete');\n",
              "    }\n",
              "    (() => {\n",
              "      let quickchartButtonEl =\n",
              "        document.querySelector('#df-53919c4b-d050-4b6c-b04a-49327cc204dc button');\n",
              "      quickchartButtonEl.style.display =\n",
              "        google.colab.kernel.accessAllowed ? 'block' : 'none';\n",
              "    })();\n",
              "  </script>\n",
              "</div>\n",
              "\n",
              "    </div>\n",
              "  </div>\n"
            ],
            "application/vnd.google.colaboratory.intrinsic+json": {
              "type": "dataframe",
              "summary": "{\n  \"name\": \"new_train\",\n  \"rows\": 8,\n  \"fields\": [\n    {\n      \"column\": \"audienceScore\",\n      \"properties\": {\n        \"dtype\": \"number\",\n        \"std\": 42261.603798419135,\n        \"min\": 0.0,\n        \"max\": 119589.0,\n        \"num_unique_values\": 8,\n        \"samples\": [\n          65.24003043758205,\n          68.0,\n          119589.0\n        ],\n        \"semantic_type\": \"\",\n        \"description\": \"\"\n      }\n    },\n    {\n      \"column\": \"runtimeMinutes\",\n      \"properties\": {\n        \"dtype\": \"number\",\n        \"std\": 45031.32154470473,\n        \"min\": 4.0,\n        \"max\": 127511.0,\n        \"num_unique_values\": 8,\n        \"samples\": [\n          106.88940561990731,\n          104.0,\n          127511.0\n        ],\n        \"semantic_type\": \"\",\n        \"description\": \"\"\n      }\n    }\n  ]\n}"
            }
          },
          "metadata": {},
          "execution_count": 14
        }
      ]
    },
    {
      "cell_type": "markdown",
      "source": [
        "# Exploratory Data Analysis\n"
      ],
      "metadata": {
        "id": "sqS5J_UXiHip"
      }
    },
    {
      "cell_type": "markdown",
      "source": [
        "### Ploting Sentiment Column"
      ],
      "metadata": {
        "id": "j6HmbfQqiHip"
      }
    },
    {
      "cell_type": "code",
      "source": [
        "sentiment_counts = new_train['sentiment'].value_counts()\n",
        "\n",
        "plt.figure(figsize=(8, 6))\n",
        "sns.barplot(x=sentiment_counts.index, y=sentiment_counts.values)\n",
        "\n",
        "plt.xlabel('Sentiment')\n",
        "plt.ylabel('Count')\n",
        "plt.title('Sentiment Distribution')\n",
        "\n",
        "plt.show()\n"
      ],
      "metadata": {
        "execution": {
          "iopub.status.busy": "2023-08-27T07:40:51.608138Z",
          "iopub.execute_input": "2023-08-27T07:40:51.60878Z",
          "iopub.status.idle": "2023-08-27T07:40:51.898361Z",
          "shell.execute_reply.started": "2023-08-27T07:40:51.608737Z",
          "shell.execute_reply": "2023-08-27T07:40:51.897159Z"
        },
        "trusted": true,
        "id": "RzQUZLVkiHip",
        "outputId": "4a9a0582-04e5-4ca3-da2d-5b410bb82cfe",
        "colab": {
          "base_uri": "https://localhost:8080/",
          "height": 564
        }
      },
      "execution_count": null,
      "outputs": [
        {
          "output_type": "display_data",
          "data": {
            "text/plain": [
              "<Figure size 800x600 with 1 Axes>"
            ],
            "image/png": "[encoded data removed]"
          },
          "metadata": {}
        }
      ]
    },
    {
      "cell_type": "code",
      "source": [
        "new_train['sentiment'].value_counts()"
      ],
      "metadata": {
        "execution": {
          "iopub.status.busy": "2023-08-27T07:40:52.645471Z",
          "iopub.execute_input": "2023-08-27T07:40:52.645987Z",
          "iopub.status.idle": "2023-08-27T07:40:52.669287Z",
          "shell.execute_reply.started": "2023-08-27T07:40:52.645945Z",
          "shell.execute_reply": "2023-08-27T07:40:52.6679Z"
        },
        "trusted": true,
        "id": "v3JW5Z3AiHip",
        "outputId": "22cbcdb2-272a-4653-c353-4ef2ae94193d",
        "colab": {
          "base_uri": "https://localhost:8080/"
        }
      },
      "execution_count": null,
      "outputs": [
        {
          "output_type": "execute_result",
          "data": {
            "text/plain": [
              "POSITIVE    86905\n",
              "NEGATIVE    43301\n",
              "Name: sentiment, dtype: int64"
            ]
          },
          "metadata": {},
          "execution_count": 16
        }
      ]
    },
    {
      "cell_type": "markdown",
      "source": [
        "## Observation :\n",
        "* ## Total 86905 Positive sentiments and 43301 Negative sentiments"
      ],
      "metadata": {
        "id": "TDr3bQdAiHip"
      }
    },
    {
      "cell_type": "markdown",
      "source": [
        "### heatmap of missing values"
      ],
      "metadata": {
        "id": "rWPETY8ziHiq"
      }
    },
    {
      "cell_type": "code",
      "source": [
        "plt.figure(figsize=(10,6))\n",
        "sns.heatmap(new_train.isna(), cmap = 'viridis')\n",
        "plt.title(\"Missing Values\")\n",
        "plt.show()"
      ],
      "metadata": {
        "execution": {
          "iopub.status.busy": "2023-08-27T07:41:11.157318Z",
          "iopub.execute_input": "2023-08-27T07:41:11.157703Z",
          "iopub.status.idle": "2023-08-27T07:41:14.142798Z",
          "shell.execute_reply.started": "2023-08-27T07:41:11.157675Z",
          "shell.execute_reply": "2023-08-27T07:41:14.141929Z"
        },
        "trusted": true,
        "id": "ullWJ7MhiHiq",
        "outputId": "8263e1d7-c7b4-4ba8-86c8-737ca93d7b84",
        "colab": {
          "base_uri": "https://localhost:8080/",
          "height": 686
        }
      },
      "execution_count": null,
      "outputs": [
        {
          "output_type": "display_data",
          "data": {
            "text/plain": [
              "<Figure size 1000x600 with 2 Axes>"
            ],
            "image/png": "[encoded data removed]"
          },
          "metadata": {}
        }
      ]
    },
    {
      "cell_type": "markdown",
      "source": [
        "### Observations :\n",
        "\n",
        "\n",
        "* ## There are many columns with null values and a lot of preprocessing is needed in order to handle categorical data and numerical data.\n",
        "* ## Director, reviewerName, movieid,title, isFrequentReviewer are the columns which do not content any missing value"
      ],
      "metadata": {
        "id": "THer0kS1iHiq"
      }
    },
    {
      "cell_type": "markdown",
      "source": [
        "### Bar plot for isFrequentReviewer"
      ],
      "metadata": {
        "id": "T2K6Acl9iHiq"
      }
    },
    {
      "cell_type": "code",
      "source": [
        "\n",
        "# Bar plot for isFrequentReviewer\n",
        "\n",
        "\n",
        "plt.figure(figsize=(8, 6))\n",
        "sns.countplot(x='isFrequentReviewer', hue='sentiment', data=new_train, palette='Set1')\n",
        "plt.title('Count Plot of isFrequentReviewer vs. Sentiment')\n",
        "plt.xlabel('isFrequentReviewer')\n",
        "plt.ylabel('Count')\n",
        "plt.legend(title='Sentiment', loc='upper right', labels=['Positive','Negative'])\n",
        "plt.show()\n",
        "\n",
        "\n"
      ],
      "metadata": {
        "execution": {
          "iopub.status.busy": "2023-08-27T07:42:19.645424Z",
          "iopub.execute_input": "2023-08-27T07:42:19.645812Z",
          "iopub.status.idle": "2023-08-27T07:42:19.987905Z",
          "shell.execute_reply.started": "2023-08-27T07:42:19.645782Z",
          "shell.execute_reply": "2023-08-27T07:42:19.98669Z"
        },
        "trusted": true,
        "id": "DitHzJK8iHiq",
        "outputId": "671f5d90-3b7e-4a1b-9379-38941e89ac0e",
        "colab": {
          "base_uri": "https://localhost:8080/",
          "height": 564
        }
      },
      "execution_count": null,
      "outputs": [
        {
          "output_type": "display_data",
          "data": {
            "text/plain": [
              "<Figure size 800x600 with 1 Axes>"
            ],
            "image/png": "[encoded data removed]"
          },
          "metadata": {}
        }
      ]
    },
    {
      "cell_type": "markdown",
      "source": [
        "### Distribution of Audience Score by Sentiment"
      ],
      "metadata": {
        "id": "mE52be_aiHiq"
      }
    },
    {
      "cell_type": "code",
      "source": [
        "plt.figure(figsize=(7, 5))\n",
        "sns.boxplot(x='sentiment', y='audienceScore', data=new_train.dropna(), palette='Set1')\n",
        "plt.title('Distribution of Audience Score by Sentiment')\n",
        "plt.xlabel('Sentiment')\n",
        "plt.ylabel('Audience Score')\n",
        "plt.yticks(range(0, 101, 10))\n",
        "plt.show()"
      ],
      "metadata": {
        "execution": {
          "iopub.status.busy": "2023-08-27T07:50:45.958754Z",
          "iopub.execute_input": "2023-08-27T07:50:45.959508Z",
          "iopub.status.idle": "2023-08-27T07:50:46.515299Z",
          "shell.execute_reply.started": "2023-08-27T07:50:45.959473Z",
          "shell.execute_reply": "2023-08-27T07:50:46.51414Z"
        },
        "trusted": true,
        "id": "ZvWJCSjRiHiq",
        "outputId": "73c4850a-90d3-46eb-9fff-647bf18867bb",
        "colab": {
          "base_uri": "https://localhost:8080/",
          "height": 594
        }
      },
      "execution_count": null,
      "outputs": [
        {
          "output_type": "stream",
          "name": "stderr",
          "text": [
            "<ipython-input-19-182c6a5d02ee>:2: FutureWarning: \n",
            "\n",
            "Passing `palette` without assigning `hue` is deprecated and will be removed in v0.14.0. Assign the `x` variable to `hue` and set `legend=False` for the same effect.\n",
            "\n",
            "  sns.boxplot(x='sentiment', y='audienceScore', data=new_train.dropna(), palette='Set1')\n"
          ]
        },
        {
          "output_type": "display_data",
          "data": {
            "text/plain": [
              "<Figure size 700x500 with 1 Axes>"
            ],
            "image/png": "[encoded data removed]"
          },
          "metadata": {}
        }
      ]
    },
    {
      "cell_type": "markdown",
      "source": [
        "### Observations\n",
        "\n",
        "*      ## When Audience Score is below 40 or above 72 is then sentiment is 'POSITIVE'"
      ],
      "metadata": {
        "id": "04u5UBV-iHiq"
      }
    },
    {
      "cell_type": "code",
      "source": [
        "sns.kdeplot(data = new_train['audienceScore'], fill =True)\n",
        "plt.title(\"KDE of Audience Score\")"
      ],
      "metadata": {
        "execution": {
          "iopub.status.busy": "2023-08-27T07:52:16.23348Z",
          "iopub.execute_input": "2023-08-27T07:52:16.234265Z",
          "iopub.status.idle": "2023-08-27T07:52:17.177758Z",
          "shell.execute_reply.started": "2023-08-27T07:52:16.23423Z",
          "shell.execute_reply": "2023-08-27T07:52:17.176617Z"
        },
        "trusted": true,
        "id": "e4GRS1z8iHiq",
        "outputId": "d47667c3-0624-4e0d-e6cd-b21a37fb2f4e",
        "colab": {
          "base_uri": "https://localhost:8080/",
          "height": 489
        }
      },
      "execution_count": null,
      "outputs": [
        {
          "output_type": "execute_result",
          "data": {
            "text/plain": [
              "Text(0.5, 1.0, 'KDE of Audience Score')"
            ]
          },
          "metadata": {},
          "execution_count": 20
        },
        {
          "output_type": "display_data",
          "data": {
            "text/plain": [
              "<Figure size 640x480 with 1 Axes>"
            ],
            "image/png": "[encoded data removed]"
          },
          "metadata": {}
        }
      ]
    },
    {
      "cell_type": "markdown",
      "source": [
        "# Data Preprocessing"
      ],
      "metadata": {
        "id": "k581FHKTiHir"
      }
    },
    {
      "cell_type": "markdown",
      "source": [
        "## Data Preprocessing Conclusions\n",
        "\n",
        "* ## As audienceScore is left tailed and have negative skewness so it should be imputed be median\n",
        "* ## As runtimeMinutes have positive skewness so it should be imputed be mean\n",
        "* ## For scaling Standard Scaler is used as it giving best result\n",
        "* ## Categorical data is imputed with \" \""
      ],
      "metadata": {
        "id": "VUc7tjrAiHir"
      }
    },
    {
      "cell_type": "code",
      "source": [
        "new_train['audienceScore'].skew()\n"
      ],
      "metadata": {
        "execution": {
          "iopub.status.busy": "2023-08-27T07:52:51.962494Z",
          "iopub.execute_input": "2023-08-27T07:52:51.96297Z",
          "iopub.status.idle": "2023-08-27T07:52:51.972078Z",
          "shell.execute_reply.started": "2023-08-27T07:52:51.962934Z",
          "shell.execute_reply": "2023-08-27T07:52:51.970938Z"
        },
        "trusted": true,
        "id": "EeMVISWjiHir",
        "outputId": "b14f3a85-8f70-405b-eea3-fb54be4d7699",
        "colab": {
          "base_uri": "https://localhost:8080/"
        }
      },
      "execution_count": null,
      "outputs": [
        {
          "output_type": "execute_result",
          "data": {
            "text/plain": [
              "-0.522208591933888"
            ]
          },
          "metadata": {},
          "execution_count": 21
        }
      ]
    },
    {
      "cell_type": "code",
      "source": [
        "new_train['runtimeMinutes'].skew()\n"
      ],
      "metadata": {
        "execution": {
          "iopub.status.busy": "2023-08-27T07:52:52.184418Z",
          "iopub.execute_input": "2023-08-27T07:52:52.184786Z",
          "iopub.status.idle": "2023-08-27T07:52:52.193569Z",
          "shell.execute_reply.started": "2023-08-27T07:52:52.18476Z",
          "shell.execute_reply": "2023-08-27T07:52:52.192508Z"
        },
        "trusted": true,
        "id": "79aHBuKkiHir",
        "outputId": "51b5fbe9-710c-4f84-eb7f-b1c3e920e8c5",
        "colab": {
          "base_uri": "https://localhost:8080/"
        }
      },
      "execution_count": null,
      "outputs": [
        {
          "output_type": "execute_result",
          "data": {
            "text/plain": [
              "1.8701846197915315"
            ]
          },
          "metadata": {},
          "execution_count": 22
        }
      ]
    },
    {
      "cell_type": "code",
      "source": [
        "from sklearn.impute import SimpleImputer\n",
        "imp = SimpleImputer(strategy = 'median' , missing_values= np.nan)\n",
        "\n",
        "new_train['audienceScore'] = imp.fit_transform(new_train[['audienceScore']])\n",
        "new_test['audienceScore'] = imp.transform(new_test[['audienceScore']])\n",
        "test_set['audienceScore'] = imp.transform(test_set[['audienceScore']])"
      ],
      "metadata": {
        "execution": {
          "iopub.status.busy": "2023-08-27T07:52:59.516098Z",
          "iopub.execute_input": "2023-08-27T07:52:59.516477Z",
          "iopub.status.idle": "2023-08-27T07:52:59.562189Z",
          "shell.execute_reply.started": "2023-08-27T07:52:59.51645Z",
          "shell.execute_reply": "2023-08-27T07:52:59.560914Z"
        },
        "trusted": true,
        "id": "eWENJv2ciHir",
        "outputId": "895f301c-f4dd-42ae-9f82-e75ecabf815f",
        "colab": {
          "base_uri": "https://localhost:8080/"
        }
      },
      "execution_count": null,
      "outputs": [
        {
          "output_type": "stream",
          "name": "stderr",
          "text": [
            "<ipython-input-23-77629ffdfcb8>:6: SettingWithCopyWarning: \n",
            "A value is trying to be set on a copy of a slice from a DataFrame.\n",
            "Try using .loc[row_indexer,col_indexer] = value instead\n",
            "\n",
            "See the caveats in the documentation: https://pandas.pydata.org/pandas-docs/stable/user_guide/indexing.html#returning-a-view-versus-a-copy\n",
            "  test_set['audienceScore'] = imp.transform(test_set[['audienceScore']])\n"
          ]
        }
      ]
    },
    {
      "cell_type": "code",
      "source": [
        "imp2 = SimpleImputer(strategy = 'mean' , missing_values= np.nan)\n",
        "new_train['runtimeMinutes'] = imp.fit_transform(new_train[['runtimeMinutes']])\n",
        "new_test['runtimeMinutes'] = imp.transform(new_test[['runtimeMinutes']])\n",
        "test_set['runtimeMinutes'] = imp.transform(test_set[['runtimeMinutes']])"
      ],
      "metadata": {
        "execution": {
          "iopub.status.busy": "2023-08-27T07:53:02.382546Z",
          "iopub.execute_input": "2023-08-27T07:53:02.382956Z",
          "iopub.status.idle": "2023-08-27T07:53:02.418794Z",
          "shell.execute_reply.started": "2023-08-27T07:53:02.382922Z",
          "shell.execute_reply": "2023-08-27T07:53:02.417605Z"
        },
        "trusted": true,
        "id": "oC-sacGViHir",
        "outputId": "dbd5b94d-01c9-402f-e4d1-3d4e82dd7738",
        "colab": {
          "base_uri": "https://localhost:8080/"
        }
      },
      "execution_count": null,
      "outputs": [
        {
          "output_type": "stream",
          "name": "stderr",
          "text": [
            "<ipython-input-24-15da8a13099a>:4: SettingWithCopyWarning: \n",
            "A value is trying to be set on a copy of a slice from a DataFrame.\n",
            "Try using .loc[row_indexer,col_indexer] = value instead\n",
            "\n",
            "See the caveats in the documentation: https://pandas.pydata.org/pandas-docs/stable/user_guide/indexing.html#returning-a-view-versus-a-copy\n",
            "  test_set['runtimeMinutes'] = imp.transform(test_set[['runtimeMinutes']])\n"
          ]
        }
      ]
    },
    {
      "cell_type": "code",
      "source": [
        "from sklearn.preprocessing import StandardScaler, MinMaxScaler, MaxAbsScaler\n",
        "\n",
        "scler = StandardScaler()\n",
        "\n",
        "new_train['audienceScore'] = scler.fit_transform(new_train[['audienceScore']])\n",
        "new_test['audienceScore'] = scler.transform(new_test[['audienceScore']])\n",
        "test_set['audienceScore'] = scler.transform(test_set[['audienceScore']])\n",
        "\n",
        "\n",
        "new_train['runtimeMinutes'] = scler.fit_transform(new_train[['runtimeMinutes']])\n",
        "new_test['runtimeMinutes'] = scler.transform(new_test[['runtimeMinutes']])\n",
        "test_set['runtimeMinutes'] = scler.transform(test_set[['runtimeMinutes']])"
      ],
      "metadata": {
        "execution": {
          "iopub.status.busy": "2023-08-27T07:53:03.125058Z",
          "iopub.execute_input": "2023-08-27T07:53:03.125435Z",
          "iopub.status.idle": "2023-08-27T07:53:03.160789Z",
          "shell.execute_reply.started": "2023-08-27T07:53:03.125407Z",
          "shell.execute_reply": "2023-08-27T07:53:03.159769Z"
        },
        "trusted": true,
        "id": "ky2n_JfOiHir",
        "outputId": "4271b125-5270-40ff-a95b-3ca053826a35",
        "colab": {
          "base_uri": "https://localhost:8080/"
        }
      },
      "execution_count": null,
      "outputs": [
        {
          "output_type": "stream",
          "name": "stderr",
          "text": [
            "<ipython-input-25-793dfafec18d>:7: SettingWithCopyWarning: \n",
            "A value is trying to be set on a copy of a slice from a DataFrame.\n",
            "Try using .loc[row_indexer,col_indexer] = value instead\n",
            "\n",
            "See the caveats in the documentation: https://pandas.pydata.org/pandas-docs/stable/user_guide/indexing.html#returning-a-view-versus-a-copy\n",
            "  test_set['audienceScore'] = scler.transform(test_set[['audienceScore']])\n",
            "<ipython-input-25-793dfafec18d>:12: SettingWithCopyWarning: \n",
            "A value is trying to be set on a copy of a slice from a DataFrame.\n",
            "Try using .loc[row_indexer,col_indexer] = value instead\n",
            "\n",
            "See the caveats in the documentation: https://pandas.pydata.org/pandas-docs/stable/user_guide/indexing.html#returning-a-view-versus-a-copy\n",
            "  test_set['runtimeMinutes'] = scler.transform(test_set[['runtimeMinutes']])\n"
          ]
        }
      ]
    },
    {
      "cell_type": "code",
      "source": [
        "new_train['boxOffice'] = new_train['boxOffice'].str.replace('$', \"\")\n",
        "new_train['boxOffice'] = new_train['boxOffice'].str.replace('M', '000000')\n",
        "new_train['boxOffice'] = new_train['boxOffice'].str.replace('K', '000')\n",
        "new_train['boxOffice'] = new_train['boxOffice'].astype(float)\n",
        "\n",
        "mm =new_train['boxOffice'].median()\n",
        "new_train['boxOffice'] = new_train['boxOffice'].fillna(value = mm)\n",
        "\n",
        "\n",
        "new_test['boxOffice'] = new_test['boxOffice'].str.replace('$', \"\")\n",
        "new_test['boxOffice'] = new_test['boxOffice'].str.replace('M', '000000')\n",
        "new_test['boxOffice'] = new_test['boxOffice'].str.replace('K', '000')\n",
        "new_test['boxOffice'] = new_test['boxOffice'].astype(float)\n",
        "\n",
        "nn =new_test['boxOffice'].median()\n",
        "new_test['boxOffice'] = new_test['boxOffice'].fillna(value = nn)\n",
        "\n",
        "\n",
        "test_set['boxOffice'] = test_set['boxOffice'].str.replace('$', \"\")\n",
        "test_set['boxOffice'] = test_set['boxOffice'].str.replace('M', '000000')\n",
        "test_set['boxOffice'] = test_set['boxOffice'].str.replace('K', '000')\n",
        "test_set['boxOffice'] = test_set['boxOffice'].astype(float)\n",
        "\n",
        "nn =test_set['boxOffice'].median()\n",
        "test_set['boxOffice'] = test_set['boxOffice'].fillna(value = nn)\n",
        "\n"
      ],
      "metadata": {
        "execution": {
          "iopub.status.busy": "2023-08-27T07:53:14.883108Z",
          "iopub.execute_input": "2023-08-27T07:53:14.883515Z",
          "iopub.status.idle": "2023-08-27T07:53:15.179933Z",
          "shell.execute_reply.started": "2023-08-27T07:53:14.883483Z",
          "shell.execute_reply": "2023-08-27T07:53:15.178832Z"
        },
        "trusted": true,
        "id": "3bUpkvjgiHir",
        "outputId": "f52a21c1-46c7-46c7-8e0a-d3e192669905",
        "colab": {
          "base_uri": "https://localhost:8080/"
        }
      },
      "execution_count": null,
      "outputs": [
        {
          "output_type": "stream",
          "name": "stderr",
          "text": [
            "<ipython-input-26-91c7204093d8>:1: FutureWarning: The default value of regex will change from True to False in a future version. In addition, single character regular expressions will *not* be treated as literal strings when regex=True.\n",
            "  new_train['boxOffice'] = new_train['boxOffice'].str.replace('$', \"\")\n",
            "<ipython-input-26-91c7204093d8>:10: FutureWarning: The default value of regex will change from True to False in a future version. In addition, single character regular expressions will *not* be treated as literal strings when regex=True.\n",
            "  new_test['boxOffice'] = new_test['boxOffice'].str.replace('$', \"\")\n",
            "<ipython-input-26-91c7204093d8>:19: FutureWarning: The default value of regex will change from True to False in a future version. In addition, single character regular expressions will *not* be treated as literal strings when regex=True.\n",
            "  test_set['boxOffice'] = test_set['boxOffice'].str.replace('$', \"\")\n",
            "<ipython-input-26-91c7204093d8>:19: SettingWithCopyWarning: \n",
            "A value is trying to be set on a copy of a slice from a DataFrame.\n",
            "Try using .loc[row_indexer,col_indexer] = value instead\n",
            "\n",
            "See the caveats in the documentation: https://pandas.pydata.org/pandas-docs/stable/user_guide/indexing.html#returning-a-view-versus-a-copy\n",
            "  test_set['boxOffice'] = test_set['boxOffice'].str.replace('$', \"\")\n",
            "<ipython-input-26-91c7204093d8>:20: SettingWithCopyWarning: \n",
            "A value is trying to be set on a copy of a slice from a DataFrame.\n",
            "Try using .loc[row_indexer,col_indexer] = value instead\n",
            "\n",
            "See the caveats in the documentation: https://pandas.pydata.org/pandas-docs/stable/user_guide/indexing.html#returning-a-view-versus-a-copy\n",
            "  test_set['boxOffice'] = test_set['boxOffice'].str.replace('M', '000000')\n",
            "<ipython-input-26-91c7204093d8>:21: SettingWithCopyWarning: \n",
            "A value is trying to be set on a copy of a slice from a DataFrame.\n",
            "Try using .loc[row_indexer,col_indexer] = value instead\n",
            "\n",
            "See the caveats in the documentation: https://pandas.pydata.org/pandas-docs/stable/user_guide/indexing.html#returning-a-view-versus-a-copy\n",
            "  test_set['boxOffice'] = test_set['boxOffice'].str.replace('K', '000')\n",
            "<ipython-input-26-91c7204093d8>:22: SettingWithCopyWarning: \n",
            "A value is trying to be set on a copy of a slice from a DataFrame.\n",
            "Try using .loc[row_indexer,col_indexer] = value instead\n",
            "\n",
            "See the caveats in the documentation: https://pandas.pydata.org/pandas-docs/stable/user_guide/indexing.html#returning-a-view-versus-a-copy\n",
            "  test_set['boxOffice'] = test_set['boxOffice'].astype(float)\n",
            "<ipython-input-26-91c7204093d8>:25: SettingWithCopyWarning: \n",
            "A value is trying to be set on a copy of a slice from a DataFrame.\n",
            "Try using .loc[row_indexer,col_indexer] = value instead\n",
            "\n",
            "See the caveats in the documentation: https://pandas.pydata.org/pandas-docs/stable/user_guide/indexing.html#returning-a-view-versus-a-copy\n",
            "  test_set['boxOffice'] = test_set['boxOffice'].fillna(value = nn)\n"
          ]
        }
      ]
    },
    {
      "cell_type": "code",
      "source": [
        "new_train['releaseDateStreaming'].dtype\n",
        "\n",
        "new_train['releaseDateStreaming'] = pd.to_datetime(new_train['releaseDateStreaming'])\n",
        "new_test['releaseDateStreaming'] = pd.to_datetime(new_test['releaseDateStreaming'])\n",
        "test_set['releaseDateStreaming'] = pd.to_datetime(test_set['releaseDateStreaming'])\n",
        "\n",
        "\n",
        "new_train['day'] = new_train['releaseDateStreaming'].dt.day\n",
        "new_train['month'] =  new_train['releaseDateStreaming'].dt.month\n",
        "new_train['year'] =  new_train['releaseDateStreaming'].dt.year\n",
        "\n",
        "new_test['day'] = new_test['releaseDateStreaming'].dt.day\n",
        "new_test['month'] =  new_test['releaseDateStreaming'].dt.month\n",
        "new_test['year'] =  new_test['releaseDateStreaming'].dt.year\n",
        "\n",
        "test_set['day'] = test_set['releaseDateStreaming'].dt.day\n",
        "test_set['month'] =  test_set['releaseDateStreaming'].dt.month\n",
        "test_set['year'] =  test_set['releaseDateStreaming'].dt.year\n",
        "\n",
        "\n",
        "new_train['day'] = imp.fit_transform(new_train[['day']])\n",
        "new_test['day'] = imp.transform(new_test[['day']])\n",
        "test_set['day'] = imp.transform(test_set[['day']])\n",
        "\n",
        "\n",
        "new_train['month'] = imp.fit_transform(new_train[['month']])\n",
        "new_test['month'] = imp.transform(new_test[['month']])\n",
        "test_set['month'] = imp.transform(test_set[['month']])\n",
        "\n",
        "\n",
        "new_train['year'] = imp.fit_transform(new_train[['year']])\n",
        "new_test['year'] = imp.transform(new_test[['year']])\n",
        "test_set['year'] = imp.transform(test_set[['year']])"
      ],
      "metadata": {
        "execution": {
          "iopub.status.busy": "2023-08-27T08:07:43.446337Z",
          "iopub.execute_input": "2023-08-27T08:07:43.446762Z",
          "iopub.status.idle": "2023-08-27T08:07:43.727689Z",
          "shell.execute_reply.started": "2023-08-27T08:07:43.446722Z",
          "shell.execute_reply": "2023-08-27T08:07:43.726473Z"
        },
        "trusted": true,
        "id": "yBLdU1-ziHiv",
        "outputId": "7d017f85-79e6-4866-90bb-92f92b58e0a8",
        "colab": {
          "base_uri": "https://localhost:8080/"
        }
      },
      "execution_count": null,
      "outputs": [
        {
          "output_type": "stream",
          "name": "stderr",
          "text": [
            "<ipython-input-27-25eb61daa1af>:5: SettingWithCopyWarning: \n",
            "A value is trying to be set on a copy of a slice from a DataFrame.\n",
            "Try using .loc[row_indexer,col_indexer] = value instead\n",
            "\n",
            "See the caveats in the documentation: https://pandas.pydata.org/pandas-docs/stable/user_guide/indexing.html#returning-a-view-versus-a-copy\n",
            "  test_set['releaseDateStreaming'] = pd.to_datetime(test_set['releaseDateStreaming'])\n",
            "<ipython-input-27-25eb61daa1af>:16: SettingWithCopyWarning: \n",
            "A value is trying to be set on a copy of a slice from a DataFrame.\n",
            "Try using .loc[row_indexer,col_indexer] = value instead\n",
            "\n",
            "See the caveats in the documentation: https://pandas.pydata.org/pandas-docs/stable/user_guide/indexing.html#returning-a-view-versus-a-copy\n",
            "  test_set['day'] = test_set['releaseDateStreaming'].dt.day\n"
          ]
        }
      ]
    },
    {
      "cell_type": "code",
      "source": [
        "text_columns = ['reviewText', 'genre','rating', 'ratingContents' ,'director', 'originalLanguage','reviewerName','movieid','title','isFrequentReviewer']\n",
        "for column in text_columns:\n",
        "    new_train[column] = new_train[column].fillna(value='')\n",
        "    new_test[column] = new_test[column].fillna(value='')\n",
        "    test_set[column] = test_set[column].fillna(value='')"
      ],
      "metadata": {
        "execution": {
          "iopub.status.busy": "2023-08-27T08:07:43.729784Z",
          "iopub.execute_input": "2023-08-27T08:07:43.730483Z",
          "iopub.status.idle": "2023-08-27T08:07:44.080622Z",
          "shell.execute_reply.started": "2023-08-27T08:07:43.730443Z",
          "shell.execute_reply": "2023-08-27T08:07:44.079223Z"
        },
        "trusted": true,
        "id": "eQ-ZoVb1iHiv"
      },
      "execution_count": null,
      "outputs": []
    },
    {
      "cell_type": "code",
      "source": [],
      "metadata": {
        "trusted": true,
        "id": "bRvOPnt3iHiv"
      },
      "execution_count": null,
      "outputs": []
    },
    {
      "cell_type": "markdown",
      "source": [
        "# Text Prerocessing"
      ],
      "metadata": {
        "id": "1zpR-tnViHiv"
      }
    },
    {
      "cell_type": "markdown",
      "source": [
        "## Text Processing conclusions:\n",
        "\n",
        "*          ## Two good vectorizers : 1. CountVectorizer  2. TfidfVectorizer\n",
        "*          ## TfidfVectorizer perform better than CountVectorizer in most of the models\n",
        "*          ## TfidfVectorizer is good with parameter as ngram_range = (1,2) for most of the models but, LogisticRegression is perform better with n_gram_range = (1,3)"
      ],
      "metadata": {
        "id": "WiqY1uOMiHiw"
      }
    },
    {
      "cell_type": "code",
      "source": [
        "'''\n",
        "vectorizer = TfidfVectorizer(ngram_range = (1,4))\n",
        "X_train = vectorizer.fit_transform(df['reviewText'])\n",
        "y_train = df['sentiment']\n",
        "'''"
      ],
      "metadata": {
        "execution": {
          "iopub.status.busy": "2023-08-27T08:07:49.962836Z",
          "iopub.execute_input": "2023-08-27T08:07:49.963231Z",
          "iopub.status.idle": "2023-08-27T08:07:49.970902Z",
          "shell.execute_reply.started": "2023-08-27T08:07:49.963203Z",
          "shell.execute_reply": "2023-08-27T08:07:49.969638Z"
        },
        "trusted": true,
        "id": "vL0Whyt9iHiw",
        "outputId": "f60af10b-1265-489f-a1b3-66a105b5e5cd",
        "colab": {
          "base_uri": "https://localhost:8080/",
          "height": 36
        }
      },
      "execution_count": null,
      "outputs": [
        {
          "output_type": "execute_result",
          "data": {
            "text/plain": [
              "\"\\nvectorizer = TfidfVectorizer(ngram_range = (1,4))\\nX_train = vectorizer.fit_transform(df['reviewText'])\\ny_train = df['sentiment']\\n\""
            ],
            "application/vnd.google.colaboratory.intrinsic+json": {
              "type": "string"
            }
          },
          "metadata": {},
          "execution_count": 29
        }
      ]
    },
    {
      "cell_type": "code",
      "source": [
        "\"\"\"\n",
        "sklearn.feature_extraction.text import CountVectorizer\n",
        "vectorizer = CountVectorizer(lowercase=True, stop_words='english')\n",
        "text_matrix = vectorizer.fit_transform(df['reviewText'])\n",
        "\"\"\""
      ],
      "metadata": {
        "execution": {
          "iopub.status.busy": "2023-08-27T08:07:50.204477Z",
          "iopub.execute_input": "2023-08-27T08:07:50.205081Z",
          "iopub.status.idle": "2023-08-27T08:07:50.21149Z",
          "shell.execute_reply.started": "2023-08-27T08:07:50.205044Z",
          "shell.execute_reply": "2023-08-27T08:07:50.210375Z"
        },
        "trusted": true,
        "id": "dOkARIIUiHiw",
        "outputId": "6f671a85-9e6d-48dc-cffe-70f8315b7b5e",
        "colab": {
          "base_uri": "https://localhost:8080/",
          "height": 53
        }
      },
      "execution_count": null,
      "outputs": [
        {
          "output_type": "execute_result",
          "data": {
            "text/plain": [
              "\"\\nsklearn.feature_extraction.text import CountVectorizer\\nvectorizer = CountVectorizer(lowercase=True, stop_words='english')\\ntext_matrix = vectorizer.fit_transform(df['reviewText'])\\n\""
            ],
            "application/vnd.google.colaboratory.intrinsic+json": {
              "type": "string"
            }
          },
          "metadata": {},
          "execution_count": 30
        }
      ]
    },
    {
      "cell_type": "code",
      "source": [
        "test_set.isna().sum()"
      ],
      "metadata": {
        "execution": {
          "iopub.status.busy": "2023-08-27T08:07:50.561122Z",
          "iopub.execute_input": "2023-08-27T08:07:50.56155Z",
          "iopub.status.idle": "2023-08-27T08:07:50.663763Z",
          "shell.execute_reply.started": "2023-08-27T08:07:50.561518Z",
          "shell.execute_reply": "2023-08-27T08:07:50.662558Z"
        },
        "trusted": true,
        "id": "YSy1I9MfiHiw",
        "outputId": "e79308b7-029b-4413-b3d2-58db339b63c9",
        "colab": {
          "base_uri": "https://localhost:8080/"
        }
      },
      "execution_count": null,
      "outputs": [
        {
          "output_type": "execute_result",
          "data": {
            "text/plain": [
              "reviewText                  0\n",
              "audienceScore               0\n",
              "runtimeMinutes              0\n",
              "genre                       0\n",
              "rating                      0\n",
              "ratingContents              0\n",
              "distributor             15596\n",
              "director                    0\n",
              "originalLanguage            0\n",
              "boxOffice                   0\n",
              "reviewerName                0\n",
              "movieid                     0\n",
              "title                       0\n",
              "isFrequentReviewer          0\n",
              "releaseDateStreaming     5974\n",
              "day                         0\n",
              "month                       0\n",
              "year                        0\n",
              "dtype: int64"
            ]
          },
          "metadata": {},
          "execution_count": 31
        }
      ]
    },
    {
      "cell_type": "code",
      "source": [],
      "metadata": {
        "trusted": true,
        "id": "fkUMPq0viHiw"
      },
      "execution_count": null,
      "outputs": []
    },
    {
      "cell_type": "code",
      "source": [
        "\n",
        "from sklearn.feature_extraction.text import TfidfVectorizer\n",
        "\n",
        "vector = TfidfVectorizer(stop_words = 'english',ngram_range = (1,2))\n",
        "\n",
        "train_vector = vector.fit_transform(new_train['reviewText'] + ' ' + new_train['genre'] + ' ' + new_train['ratingContents'] + ' ' + new_train['director'] + ' ' + new_train['originalLanguage'] + ' ' + new_train['reviewerName']+ ' ' + new_train['movieid']+ ' ' + new_train['title']+ ' ' + new_train['isFrequentReviewer'].astype(str)+ ' ' + new_train['rating'].astype(str))\n",
        "test_vector = vector.transform(new_test['reviewText'].astype(str) + ' ' + new_test['genre'].astype(str) + ' ' + new_test['ratingContents'].astype(str) + ' ' + new_test['director'].astype(str) + ' ' + new_test['originalLanguage'].astype(str) + ' ' + new_test['reviewerName'].astype(str)+ ' ' + new_test['movieid'].astype(str)+ ' ' + new_test['title'].astype(str)+ ' ' + new_test['isFrequentReviewer'].astype(str)+ ' ' + new_test['rating'].astype(str))\n",
        "test_set_vector = vector.transform(test_set['reviewText'] + ' ' + test_set['genre'] + ' ' + test_set['ratingContents'] + ' ' + test_set['director'] + ' ' + test_set['originalLanguage'] + ' ' + test_set['reviewerName']+ ' ' + test_set['movieid']+ ' ' + test_set['title']+ ' ' + test_set['isFrequentReviewer'].astype(str)+ ' ' + test_set['rating'].astype(str))\n",
        "\n"
      ],
      "metadata": {
        "execution": {
          "iopub.status.busy": "2023-08-27T08:07:52.831274Z",
          "iopub.execute_input": "2023-08-27T08:07:52.831665Z",
          "iopub.status.idle": "2023-08-27T08:08:17.989651Z",
          "shell.execute_reply.started": "2023-08-27T08:07:52.831637Z",
          "shell.execute_reply": "2023-08-27T08:08:17.98835Z"
        },
        "trusted": true,
        "id": "-I-qdma5iHiw"
      },
      "execution_count": null,
      "outputs": []
    },
    {
      "cell_type": "code",
      "source": [
        "new_train.drop(columns= ['reviewText', 'sentiment', 'genre','rating', 'ratingContents','distributor' ,'director', 'originalLanguage','reviewerName','movieid','title','boxOffice','isFrequentReviewer','releaseDateStreaming', 'day','month','year'], inplace=True)\n",
        "new_test.drop(columns=['reviewText','sentiment', 'genre','rating', 'ratingContents','distributor' ,'director', 'originalLanguage','reviewerName','movieid','title','boxOffice','isFrequentReviewer','releaseDateStreaming','day','month','year'], inplace=True)\n",
        "test_set.drop(columns=['reviewText', 'genre','rating', 'ratingContents','distributor' ,'director', 'originalLanguage','reviewerName','movieid','title','boxOffice','isFrequentReviewer','releaseDateStreaming','day','month','year'], inplace=True)\n"
      ],
      "metadata": {
        "execution": {
          "iopub.status.busy": "2023-08-27T08:08:17.991605Z",
          "iopub.execute_input": "2023-08-27T08:08:17.991976Z",
          "iopub.status.idle": "2023-08-27T08:08:18.017676Z",
          "shell.execute_reply.started": "2023-08-27T08:08:17.991945Z",
          "shell.execute_reply": "2023-08-27T08:08:18.016327Z"
        },
        "trusted": true,
        "id": "imFtUac0iHiw"
      },
      "execution_count": null,
      "outputs": []
    },
    {
      "cell_type": "code",
      "source": [
        "test_set.info()"
      ],
      "metadata": {
        "execution": {
          "iopub.status.busy": "2023-08-27T08:08:18.019165Z",
          "iopub.execute_input": "2023-08-27T08:08:18.019767Z",
          "iopub.status.idle": "2023-08-27T08:08:18.04005Z",
          "shell.execute_reply.started": "2023-08-27T08:08:18.019723Z",
          "shell.execute_reply": "2023-08-27T08:08:18.038767Z"
        },
        "trusted": true,
        "id": "K4ULw1gTiHiw",
        "outputId": "e544fd90-f837-4f56-c285-6d7bf9e6f282",
        "colab": {
          "base_uri": "https://localhost:8080/"
        }
      },
      "execution_count": null,
      "outputs": [
        {
          "output_type": "stream",
          "name": "stdout",
          "text": [
            "<class 'pandas.core.frame.DataFrame'>\n",
            "Int64Index: 55315 entries, 0 to 55314\n",
            "Data columns (total 2 columns):\n",
            " #   Column          Non-Null Count  Dtype  \n",
            "---  ------          --------------  -----  \n",
            " 0   audienceScore   55315 non-null  float64\n",
            " 1   runtimeMinutes  55315 non-null  float64\n",
            "dtypes: float64(2)\n",
            "memory usage: 1.3 MB\n"
          ]
        }
      ]
    },
    {
      "cell_type": "code",
      "source": [
        "new_test.info()"
      ],
      "metadata": {
        "execution": {
          "iopub.status.busy": "2023-08-27T08:08:18.04244Z",
          "iopub.execute_input": "2023-08-27T08:08:18.042779Z",
          "iopub.status.idle": "2023-08-27T08:08:18.056274Z",
          "shell.execute_reply.started": "2023-08-27T08:08:18.04275Z",
          "shell.execute_reply": "2023-08-27T08:08:18.054584Z"
        },
        "trusted": true,
        "id": "WSPcUZapiHix",
        "outputId": "43f85ebd-74e6-4081-e8fa-9855089a30de",
        "colab": {
          "base_uri": "https://localhost:8080/"
        }
      },
      "execution_count": null,
      "outputs": [
        {
          "output_type": "stream",
          "name": "stdout",
          "text": [
            "<class 'pandas.core.frame.DataFrame'>\n",
            "Int64Index: 32552 entries, 20302 to 133274\n",
            "Data columns (total 2 columns):\n",
            " #   Column          Non-Null Count  Dtype  \n",
            "---  ------          --------------  -----  \n",
            " 0   audienceScore   32552 non-null  float64\n",
            " 1   runtimeMinutes  32552 non-null  float64\n",
            "dtypes: float64(2)\n",
            "memory usage: 762.9 KB\n"
          ]
        }
      ]
    },
    {
      "cell_type": "code",
      "source": [
        "new_train.isna().sum()"
      ],
      "metadata": {
        "execution": {
          "iopub.status.busy": "2023-08-27T08:08:18.057832Z",
          "iopub.execute_input": "2023-08-27T08:08:18.058279Z",
          "iopub.status.idle": "2023-08-27T08:08:18.068502Z",
          "shell.execute_reply.started": "2023-08-27T08:08:18.058249Z",
          "shell.execute_reply": "2023-08-27T08:08:18.067325Z"
        },
        "trusted": true,
        "id": "1OdoHvc5iHix",
        "outputId": "1d9aaf6e-60cd-49e3-8b05-1cf37943912d",
        "colab": {
          "base_uri": "https://localhost:8080/"
        }
      },
      "execution_count": null,
      "outputs": [
        {
          "output_type": "execute_result",
          "data": {
            "text/plain": [
              "audienceScore     0\n",
              "runtimeMinutes    0\n",
              "dtype: int64"
            ]
          },
          "metadata": {},
          "execution_count": 36
        }
      ]
    },
    {
      "cell_type": "code",
      "source": [
        "\n",
        "from scipy.sparse import hstack,csr_matrix\n",
        "X = hstack([train_vector, csr_matrix(new_train)])\n",
        "X_test = hstack([test_vector, csr_matrix(new_test)])\n",
        "X_test_set = hstack([test_set_vector, csr_matrix(test_set)])"
      ],
      "metadata": {
        "execution": {
          "iopub.status.busy": "2023-08-27T08:08:18.070092Z",
          "iopub.execute_input": "2023-08-27T08:08:18.070428Z",
          "iopub.status.idle": "2023-08-27T08:08:18.273289Z",
          "shell.execute_reply.started": "2023-08-27T08:08:18.070401Z",
          "shell.execute_reply": "2023-08-27T08:08:18.272198Z"
        },
        "trusted": true,
        "id": "KsJYksjLiHix"
      },
      "execution_count": null,
      "outputs": []
    },
    {
      "cell_type": "code",
      "source": [],
      "metadata": {
        "trusted": true,
        "id": "Z_c9xFZdiHix"
      },
      "execution_count": null,
      "outputs": []
    },
    {
      "cell_type": "code",
      "source": [],
      "metadata": {
        "trusted": true,
        "id": "eO22OA7ziHix"
      },
      "execution_count": null,
      "outputs": []
    },
    {
      "cell_type": "markdown",
      "source": [
        "## Feature Selection"
      ],
      "metadata": {
        "id": "w4DEuGE4iHix"
      }
    },
    {
      "cell_type": "code",
      "source": [
        "# percentile = 40\n",
        "# selector = SelectKPercentile(score_func=f_classif, percentile=percentile)\n",
        "# X_selected = selector.fit_transform(X, y)\n",
        "\n"
      ],
      "metadata": {
        "execution": {
          "iopub.status.busy": "2023-08-23T17:49:07.21009Z",
          "iopub.status.idle": "2023-08-23T17:49:07.210816Z",
          "shell.execute_reply.started": "2023-08-23T17:49:07.210578Z",
          "shell.execute_reply": "2023-08-23T17:49:07.210598Z"
        },
        "trusted": true,
        "id": "Iiig4hUiiHix"
      },
      "execution_count": null,
      "outputs": []
    },
    {
      "cell_type": "code",
      "source": [],
      "metadata": {
        "trusted": true,
        "id": "-9czi4yKiHix"
      },
      "execution_count": null,
      "outputs": []
    },
    {
      "cell_type": "markdown",
      "source": [
        "# Models and Classification Report"
      ],
      "metadata": {
        "id": "NmYZnZgIiHiy"
      }
    },
    {
      "cell_type": "markdown",
      "source": [
        "## Models Conclusion :\n",
        "             \n",
        "*                       ### best score is     0.83102       \n",
        "*                       ### LinearSVC is best model so far, with hyperparameters C = 1 and max_iter = 400\n",
        "*                       ### 2nd best model is Logistic regression with Hyperparameter Tunning\n",
        "*                      ###  3rd best Model is RidgeClassifier\n",
        "*                       ### Another Observation is training model with whole dataset without spliting increase the accuracy, for this case"
      ],
      "metadata": {
        "id": "0N9XMCHxiHiy"
      }
    },
    {
      "cell_type": "markdown",
      "source": [
        "## Model 1 : LogisticRegression"
      ],
      "metadata": {
        "id": "lZtHk6zbiHiy"
      }
    },
    {
      "cell_type": "code",
      "source": [
        "# X = df['reviewText']\n",
        "# y = df['sentiment']\n",
        "# X_train, X_test, y_train, y_test =  train_test_split(X, y, test_size = 0.3, random_state = 0)\n",
        "\n",
        "# \"\"\"\n",
        "\n",
        "# pipe = Pipeline([\n",
        "#     ('tfidf', TfidfVectorizer()),\n",
        "#     ('model', LogisticRegression())\n",
        "# ])\n",
        "\n",
        "# param_dist = {\n",
        "#     'tfidf__ngram_range': [(1, 1), (1, 2), (1, 3)],\n",
        "#     'tfidf__use_idf': [True, False],\n",
        "#     'model__C': uniform(0.1, 1.0),\n",
        "#     'model__max_iter': [100, 200, 500],\n",
        "# }\n",
        "\n",
        "# random_search = RandomizedSearchCV(pipe, param_distributions=param_dist, n_iter=10, cv=5, n_jobs=-1, verbose=1)\n",
        "# random_search.fit(X_train, y_train)\n",
        "\n",
        "# best_params = random_search.best_params_\n",
        "# best_model = random_search.best_estimator_\n",
        "# \"\"\"\n",
        "# pipe = Pipeline([\n",
        "#     ('tfidf', TfidfVectorizer(ngram_range = (1,2,), use_idf = True)),\n",
        "#     ('model', LogisticRegression(C =  0.9555908857944696, max_iter= 200))\n",
        "# ])\n",
        "\n",
        "# pipe.fit(X_train, y_train)\n",
        "\n",
        "# y_pred = pipe.predict(X_test)\n",
        "\n",
        "# accuracy = accuracy_score(y_test, y_pred)\n",
        "# print(\"Accuracy:\", accuracy)\n",
        "\n",
        "# pred = pipe.predict(X_test)\n",
        "\n",
        "# print(classification_report(y_test,pred))\n",
        "# print(confusion_matrix(y_test, pred))\n",
        "# print(f1_score(pred, y_test,pos_label='POSITIVE'))"
      ],
      "metadata": {
        "execution": {
          "iopub.status.busy": "2023-08-23T17:49:07.212026Z",
          "iopub.status.idle": "2023-08-23T17:49:07.212418Z",
          "shell.execute_reply.started": "2023-08-23T17:49:07.212227Z",
          "shell.execute_reply": "2023-08-23T17:49:07.212246Z"
        },
        "trusted": true,
        "id": "jYOIQflziHiy"
      },
      "execution_count": null,
      "outputs": []
    },
    {
      "cell_type": "code",
      "source": [
        "# from scipy.stats import loguniform\n",
        "\n",
        "# logreg = LogisticRegression(random_state = 42)\n",
        "\n",
        "# param_dist = {\n",
        "#     'C': loguniform(0.001, 1000),  # Regularization parameter\n",
        "#     'max_iter': [100, 200, 300, 400, 500]\n",
        "# }\n",
        "\n",
        "# random_search = RandomizedSearchCV(logreg, param_distributions=param_dist, n_iter=100, cv=5, verbose=2, n_jobs=-1, random_state=42)\n",
        "\n",
        "# random_search.fit(X, y_trai)\n",
        "\n",
        "# print(\"Best parameters:\", random_search.best_params_)\n",
        "\n",
        "# best_model = random_search.best_estimator_\n",
        "\n",
        "\n",
        "# y_pred = best_model.predict(X_test)\n",
        "# print(\"Classification Report:\")\n",
        "# print(classification_report(y_tes, y_pred))\n",
        "\n",
        "# f1 = f1_score(y_tes, y_pred, pos_label=\"POSITIVE\")\n",
        "# print(\"F1 Score:\", f1)\n",
        "\n",
        "# pred_counts = pd.Series(y_pred).value_counts()\n",
        "# print(\"Predicted Class Counts:\")\n",
        "# print(pred_counts)\n",
        "# #  {'C': 18.77688470273464, 'max_iter': 500}"
      ],
      "metadata": {
        "execution": {
          "iopub.status.busy": "2023-08-23T17:49:07.213561Z",
          "iopub.status.idle": "2023-08-23T17:49:07.21398Z",
          "shell.execute_reply.started": "2023-08-23T17:49:07.21379Z",
          "shell.execute_reply": "2023-08-23T17:49:07.213809Z"
        },
        "trusted": true,
        "id": "kpSB7X8GiHiy"
      },
      "execution_count": null,
      "outputs": []
    },
    {
      "cell_type": "code",
      "source": [],
      "metadata": {
        "trusted": true,
        "id": "zDgLhVFwiHiy"
      },
      "execution_count": null,
      "outputs": []
    },
    {
      "cell_type": "code",
      "source": [
        "from sklearn.linear_model import LogisticRegression\n",
        "\n",
        "model = LogisticRegression(C = 18.77, max_iter = 500, random_state = 42)\n",
        "model.fit(X, y_trai)\n",
        "y_pred = model.predict(X_test)\n",
        "from sklearn.metrics import classification_report, f1_score\n",
        "print(classification_report(y_tes, y_pred))\n",
        "\n",
        "\n",
        "pred = model.predict(X_test)\n",
        "print(f1_score(y_tes,y_pred,pos_label = \"POSITIVE\"))\n",
        "\n"
      ],
      "metadata": {
        "execution": {
          "iopub.status.busy": "2023-08-27T08:40:11.002657Z",
          "iopub.execute_input": "2023-08-27T08:40:11.003085Z",
          "iopub.status.idle": "2023-08-27T08:43:38.034073Z",
          "shell.execute_reply.started": "2023-08-27T08:40:11.003051Z",
          "shell.execute_reply": "2023-08-27T08:43:38.032629Z"
        },
        "trusted": true,
        "id": "rZhUVlMWiHiy"
      },
      "execution_count": null,
      "outputs": []
    },
    {
      "cell_type": "markdown",
      "source": [
        "              precision    recall  f1-score   support\n",
        "\n",
        "    NEGATIVE       0.76      0.68      0.72     10696\n",
        "    POSITIVE       0.85      0.90      0.87     21856\n",
        "\n",
        "    accuracy                           0.82     32552\n",
        "    macro avg       0.81      0.79      0.79     32552\n",
        "    weighted avg    0.82      0.82      0.82     32552\n",
        "\n",
        "    F1 Score : 0.8721844714269801"
      ],
      "metadata": {
        "id": "82eH7E9hiHiz"
      }
    },
    {
      "cell_type": "code",
      "source": [
        "conf_matrix  =confusion_matrix(y_tes, y_pred)\n",
        "plt.figure(figsize=(6, 4))\n",
        "sns.set(font_scale=1.2)\n",
        "sns.heatmap(conf_matrix, annot=True, fmt='d', cmap='Blues', linewidths=.5, cbar=False)\n",
        "\n",
        "# Add labels and title\n",
        "plt.xlabel('Predicted Labels')\n",
        "plt.ylabel('True Labels')\n",
        "plt.title('Confusion Matrix')"
      ],
      "metadata": {
        "execution": {
          "iopub.status.busy": "2023-08-27T08:43:38.036547Z",
          "iopub.execute_input": "2023-08-27T08:43:38.037002Z",
          "iopub.status.idle": "2023-08-27T08:43:38.434057Z",
          "shell.execute_reply.started": "2023-08-27T08:43:38.036964Z",
          "shell.execute_reply": "2023-08-27T08:43:38.433041Z"
        },
        "trusted": true,
        "id": "6GGrtnKJiHiz"
      },
      "execution_count": null,
      "outputs": []
    },
    {
      "cell_type": "markdown",
      "source": [
        "## Model 2 : LinearSVC"
      ],
      "metadata": {
        "id": "lbc6pSGMiHiz"
      }
    },
    {
      "cell_type": "code",
      "source": [
        "from sklearn.model_selection import GridSearchCV\n",
        "from sklearn.svm import LinearSVC\n",
        "from sklearn.metrics import classification_report, f1_score\n",
        "\n",
        "linear_svc = LinearSVC(random_state = 42)\n",
        "\n",
        "param_grid = {\n",
        "    'C': [0.001, 0.01, 0.1, 1, 10, 100],\n",
        "    'max_iter': [100, 200, 300, 400, 500]\n",
        "}\n",
        "\n",
        "grid_search = GridSearchCV(linear_svc, param_grid=param_grid, cv=5, verbose=2, n_jobs=-1, random_state = 42)\n",
        "\n",
        "grid_search.fit(X_trai, y_trai)\n",
        "\n",
        "print(\"Best parameters:\", grid_search.best_params_)\n",
        "\n",
        "best_model = grid_search.best_estimator_\n",
        "\n",
        "y_pred = best_model.predict(X_tes)\n",
        "print(\"Classification Report:\")\n",
        "print(classification_report(y_tes, y_pred))\n",
        "# F1 score on the test set\n",
        "f1 = f1_score(y_tes, y_pred, pos_label=\"POSITIVE\")\n",
        "print(\"F1 Score:\", f1)\n",
        "\n",
        "pred_counts = pd.Series(y_pred).value_counts()\n",
        "print(\"Predicted Class Counts:\")\n",
        "print(pred_counts)\n",
        "# Best parameters: {'C': 1, 'max_iter': 400}\n"
      ],
      "metadata": {
        "execution": {
          "iopub.status.busy": "2023-08-23T17:49:07.218024Z",
          "iopub.status.idle": "2023-08-23T17:49:07.219571Z",
          "shell.execute_reply.started": "2023-08-23T17:49:07.219104Z",
          "shell.execute_reply": "2023-08-23T17:49:07.219145Z"
        },
        "trusted": true,
        "id": "jvNI-z4IiHiz"
      },
      "execution_count": null,
      "outputs": []
    },
    {
      "cell_type": "markdown",
      "source": [
        "### Best parameters: {'C': 1, 'max_iter': 400}\n"
      ],
      "metadata": {
        "id": "MpdrJ_3ziHiz"
      }
    },
    {
      "cell_type": "code",
      "source": [
        "#best so far\n",
        "\n",
        "from sklearn.svm import LinearSVC\n",
        "\n",
        "model = LinearSVC(C = 1, max_iter = 400, random_state =42)\n",
        "model.fit(X, y_trai)\n",
        "y_pred = model.predict(X_test)\n",
        "from sklearn.metrics import classification_report, f1_score\n",
        "print(classification_report(y_tes, y_pred))\n",
        "\n",
        "\n",
        "pred = model.predict(X_test)\n",
        "print(f1_score(y_tes,y_pred,pos_label = \"POSITIVE\"))\n"
      ],
      "metadata": {
        "execution": {
          "iopub.status.busy": "2023-08-27T08:43:55.826567Z",
          "iopub.execute_input": "2023-08-27T08:43:55.826952Z",
          "iopub.status.idle": "2023-08-27T08:44:37.380337Z",
          "shell.execute_reply.started": "2023-08-27T08:43:55.826921Z",
          "shell.execute_reply": "2023-08-27T08:44:37.379137Z"
        },
        "trusted": true,
        "id": "rkg67BDGiHiz"
      },
      "execution_count": null,
      "outputs": []
    },
    {
      "cell_type": "markdown",
      "source": [
        "              precision    recall  f1-score   support\n",
        "\n",
        "    NEGATIVE       0.76      0.67      0.72     10696\n",
        "    POSITIVE       0.85      0.90      0.87     21856\n",
        "\n",
        "    accuracy                           0.82     32552\n",
        "    macro avg       0.81      0.79      0.79     32552\n",
        "    weighted avg    0.82      0.82      0.82     32552\n",
        "\n",
        "    F1 score  : 0.8724521584334668"
      ],
      "metadata": {
        "id": "UIGvIVM5iHiz"
      }
    },
    {
      "cell_type": "code",
      "source": [
        "conf_matrix  =confusion_matrix(y_tes, y_pred)\n",
        "plt.figure(figsize=(6, 4))\n",
        "sns.set(font_scale=1.2)\n",
        "sns.heatmap(conf_matrix, annot=True, fmt='d', cmap='Blues', linewidths=.5, cbar=False)\n",
        "\n",
        "# Add labels and title\n",
        "plt.xlabel('Predicted Labels')\n",
        "plt.ylabel('True Labels')\n",
        "plt.title('Confusion Matrix')"
      ],
      "metadata": {
        "execution": {
          "iopub.status.busy": "2023-08-27T08:44:37.382187Z",
          "iopub.execute_input": "2023-08-27T08:44:37.382519Z",
          "iopub.status.idle": "2023-08-27T08:44:37.781821Z",
          "shell.execute_reply.started": "2023-08-27T08:44:37.382492Z",
          "shell.execute_reply": "2023-08-27T08:44:37.780985Z"
        },
        "trusted": true,
        "id": "E8FP9XRPiHi0"
      },
      "execution_count": null,
      "outputs": []
    },
    {
      "cell_type": "markdown",
      "source": [
        "## Model 3 :  RidgeClassifier\n"
      ],
      "metadata": {
        "id": "SQ3GC0ogiHi0"
      }
    },
    {
      "cell_type": "code",
      "source": [
        "\n",
        "# model13 = RidgeClassifier()\n",
        "\n",
        "# param_grid = {\n",
        "#     'alpha' : np.linspace(0.01, 10, 20),\n",
        "#     'solver': ['auto', 'svd', ' cholesky', 'lsqr', ' sparse_cg', 'sag','saga']\n",
        "# }\n",
        "\n",
        "# grid_search = GridSearchCV(estimator = model13, param_grid = param_grid, cv =5)\n",
        "# grid_search.fit(X_trai, y_trai)\n",
        "# best_params = grid_search.best_params_\n",
        "\n",
        "\n",
        "# #best_params: {'alpha': 3.096149524540197, 'solver': 'auto'}\n",
        "\n",
        "\n",
        "# # best_model = RidgeClassifier(alpha = 3.096149524540197, solver = 'auto')\n",
        "# # best_model.fit(X_trai, y_trai)\n",
        "# # best_model.score(X_trai, y_trai)\n",
        "\n",
        "\n",
        "# # score = 0.8725405509165947\n",
        "\n"
      ],
      "metadata": {
        "execution": {
          "iopub.status.busy": "2023-08-23T17:49:07.224017Z",
          "iopub.status.idle": "2023-08-23T17:49:07.224655Z",
          "shell.execute_reply.started": "2023-08-23T17:49:07.224283Z",
          "shell.execute_reply": "2023-08-23T17:49:07.224308Z"
        },
        "trusted": true,
        "id": "4Fh-cj0QiHi0"
      },
      "execution_count": null,
      "outputs": []
    },
    {
      "cell_type": "code",
      "source": [
        "\n",
        "model = RidgeClassifier(alpha=  0.5357894736842106, solver= 'auto')\n",
        "model.fit(X, y_trai)\n",
        "y_pred = model.predict(X_test)\n",
        "from sklearn.metrics import classification_report, f1_score\n",
        "print(classification_report(y_tes, y_pred))\n",
        "\n",
        "\n",
        "pred = model.predict(X_test)\n",
        "print(f1_score(y_tes,y_pred,pos_label = \"POSITIVE\"))"
      ],
      "metadata": {
        "execution": {
          "iopub.status.busy": "2023-08-27T08:44:37.783197Z",
          "iopub.execute_input": "2023-08-27T08:44:37.783526Z",
          "iopub.status.idle": "2023-08-27T08:45:06.319701Z",
          "shell.execute_reply.started": "2023-08-27T08:44:37.7835Z",
          "shell.execute_reply": "2023-08-27T08:45:06.318532Z"
        },
        "trusted": true,
        "id": "4rthoD4jiHi0"
      },
      "execution_count": null,
      "outputs": []
    },
    {
      "cell_type": "markdown",
      "source": [
        "                       precision    recall  f1-score   support\n",
        "\n",
        "    NEGATIVE       0.76      0.67      0.71     10696\n",
        "    POSITIVE       0.85      0.90      0.87     21856\n",
        "\n",
        "    accuracy                           0.82     32552\n",
        "    macro avg       0.81      0.78      0.79     32552\n",
        "    weighted avg    0.82      0.82      0.82     32552\n",
        "\n",
        "    F1 score : 0.8721257677553825\n"
      ],
      "metadata": {
        "id": "EQKiNBBWiHi0"
      }
    },
    {
      "cell_type": "code",
      "source": [
        "conf_matrix  =confusion_matrix(y_tes, y_pred)\n",
        "plt.figure(figsize=(6, 4))\n",
        "sns.set(font_scale=1.2)\n",
        "sns.heatmap(conf_matrix, annot=True, fmt='d', cmap='Blues', linewidths=.5, cbar=False)\n",
        "\n",
        "# Add labels and title\n",
        "plt.xlabel('Predicted Labels')\n",
        "plt.ylabel('True Labels')\n",
        "plt.title('Confusion Matrix')"
      ],
      "metadata": {
        "execution": {
          "iopub.status.busy": "2023-08-27T08:45:06.32272Z",
          "iopub.execute_input": "2023-08-27T08:45:06.323512Z",
          "iopub.status.idle": "2023-08-27T08:45:06.705636Z",
          "shell.execute_reply.started": "2023-08-27T08:45:06.323476Z",
          "shell.execute_reply": "2023-08-27T08:45:06.704447Z"
        },
        "trusted": true,
        "id": "05SjNVbGiHi0"
      },
      "execution_count": null,
      "outputs": []
    },
    {
      "cell_type": "markdown",
      "source": [
        "<!-- {'alpha': 0.5357894736842106, 'solver': 'auto'}\n",
        " -->"
      ],
      "metadata": {
        "id": "C28LfjKiiHi0"
      }
    },
    {
      "cell_type": "markdown",
      "source": [
        "{'alpha': 2.2465170442181615, 'solver': 'sag'}"
      ],
      "metadata": {
        "id": "sR2UinAniHi0"
      }
    },
    {
      "cell_type": "markdown",
      "source": [
        "## Model 4 : SGDClassifier"
      ],
      "metadata": {
        "id": "DnXqwwyFiHi1"
      }
    },
    {
      "cell_type": "code",
      "source": [
        "# from sklearn.model_selection import GridSearchCV\n",
        "# from sklearn.linear_model import SGDClassifier\n",
        "# import numpy as np\n",
        "\n",
        "# param_grid = {\n",
        "#     'alpha': np.logspace(-6, 1, 8),\n",
        "#     'loss': ['hinge', 'log', 'modified_huber', 'squared_hinge', 'perceptron'],\n",
        "#     'penalty': ['l2', 'l1', 'elasticnet']\n",
        "# }\n",
        "\n",
        "# model = SGDClassifier()\n",
        "\n",
        "# grid_search = GridSearchCV(estimator=model, param_grid=param_grid, cv=5)\n",
        "\n",
        "# grid_search.fit(X_trai, y_trai)\n",
        "\n",
        "# best_params_grid = grid_search.best_params_\n",
        "\n",
        "# print(\"Best parameters from grid search:\", best_params_grid)\n",
        "\n",
        "# best_model_grid = SGDClassifier(alpha=best_params_grid['alpha'], loss=best_params_grid['loss'], penalty=best_params_grid['penalty'])\n",
        "\n",
        "# best_model_grid.fit(X_trai, y_trai)\n",
        "\n",
        "# score_grid = best_model_grid.score(X_trai, y_trai)\n",
        "# print(\"Best model's score:\", score_grid)\n"
      ],
      "metadata": {
        "execution": {
          "iopub.status.busy": "2023-08-23T17:49:07.228739Z",
          "iopub.status.idle": "2023-08-23T17:49:07.229267Z",
          "shell.execute_reply.started": "2023-08-23T17:49:07.228998Z",
          "shell.execute_reply": "2023-08-23T17:49:07.229022Z"
        },
        "trusted": true,
        "id": "YAOHEE8AiHi1"
      },
      "execution_count": null,
      "outputs": []
    },
    {
      "cell_type": "code",
      "source": [
        "from sklearn.linear_model import SGDClassifier\n",
        "\n",
        "model = SGDClassifier(alpha=  0.1,eta0 = 0.5,learning_rate = 'adaptive', max_iter = 200,penalty = None, random_state = 0)\n",
        "model.fit(X, y_trai)\n",
        "y_pred = model.predict(X_test)\n",
        "from sklearn.metrics import classification_report, f1_score\n",
        "print(classification_report(y_tes, y_pred))\n",
        "\n",
        "\n",
        "pred = model.predict(X_test)\n",
        "print(f1_score(y_tes,y_pred,pos_label = \"POSITIVE\"))"
      ],
      "metadata": {
        "execution": {
          "iopub.status.busy": "2023-08-27T08:25:40.706004Z",
          "iopub.execute_input": "2023-08-27T08:25:40.706396Z",
          "iopub.status.idle": "2023-08-27T08:25:48.617739Z",
          "shell.execute_reply.started": "2023-08-27T08:25:40.706367Z",
          "shell.execute_reply": "2023-08-27T08:25:48.616513Z"
        },
        "trusted": true,
        "id": "ktw8nhyoiHi1"
      },
      "execution_count": null,
      "outputs": []
    },
    {
      "cell_type": "code",
      "source": [],
      "metadata": {
        "execution": {
          "iopub.status.busy": "2023-08-27T08:37:24.658008Z",
          "iopub.execute_input": "2023-08-27T08:37:24.659481Z",
          "iopub.status.idle": "2023-08-27T08:37:24.82088Z",
          "shell.execute_reply.started": "2023-08-27T08:37:24.65943Z",
          "shell.execute_reply": "2023-08-27T08:37:24.819684Z"
        },
        "trusted": true,
        "id": "2635CswJiHi1"
      },
      "execution_count": null,
      "outputs": []
    },
    {
      "cell_type": "code",
      "source": [
        "conf_matrix  =confusion_matrix(y_tes, y_pred)\n",
        "plt.figure(figsize=(6, 4))\n",
        "sns.set(font_scale=1.2)\n",
        "sns.heatmap(conf_matrix, annot=True, fmt='d', cmap='Blues', linewidths=.5, cbar=False)\n",
        "\n",
        "# Add labels and title\n",
        "plt.xlabel('Predicted Labels')\n",
        "plt.ylabel('True Labels')\n",
        "plt.title('Confusion Matrix')"
      ],
      "metadata": {
        "execution": {
          "iopub.status.busy": "2023-08-27T08:38:46.45803Z",
          "iopub.execute_input": "2023-08-27T08:38:46.458496Z",
          "iopub.status.idle": "2023-08-27T08:38:46.794965Z",
          "shell.execute_reply.started": "2023-08-27T08:38:46.458464Z",
          "shell.execute_reply": "2023-08-27T08:38:46.793738Z"
        },
        "trusted": true,
        "id": "19MIRR9YiHi1"
      },
      "execution_count": null,
      "outputs": []
    },
    {
      "cell_type": "markdown",
      "source": [
        "              precision    recall  f1-score   support\n",
        "\n",
        "    NEGATIVE       0.74      0.68      0.71     10696\n",
        "    POSITIVE       0.85      0.88      0.86     21856\n",
        "\n",
        "    accuracy                           0.81     32552\n",
        "    macro avg       0.79      0.78      0.79     32552\n",
        "    weighted avg    0.81      0.81      0.81     32552\n",
        "\n",
        "    f1 Score :0.8644589824869044"
      ],
      "metadata": {
        "id": "i0Ug7vYWiHi1"
      }
    },
    {
      "cell_type": "markdown",
      "source": [
        "# Submission File"
      ],
      "metadata": {
        "id": "Awcp8sbDiHi1"
      }
    },
    {
      "cell_type": "code",
      "source": [
        "pred = model.predict(X_test_set)"
      ],
      "metadata": {
        "execution": {
          "iopub.status.busy": "2023-08-27T08:26:35.773841Z",
          "iopub.execute_input": "2023-08-27T08:26:35.774329Z",
          "iopub.status.idle": "2023-08-27T08:26:35.796503Z",
          "shell.execute_reply.started": "2023-08-27T08:26:35.774295Z",
          "shell.execute_reply": "2023-08-27T08:26:35.795306Z"
        },
        "trusted": true,
        "id": "_VxVtouqiHi1"
      },
      "execution_count": null,
      "outputs": []
    },
    {
      "cell_type": "code",
      "source": [
        "\n",
        "submission = pd.DataFrame(columns = ['id', 'sentiment'])\n",
        "submission['id'] = [i for i in range(len(pred))]\n",
        "submission['sentiment'] = pred\n",
        "submission.to_csv('submission.csv', index = False )"
      ],
      "metadata": {
        "execution": {
          "iopub.status.busy": "2023-08-27T08:26:38.183867Z",
          "iopub.execute_input": "2023-08-27T08:26:38.184305Z",
          "iopub.status.idle": "2023-08-27T08:26:38.358057Z",
          "shell.execute_reply.started": "2023-08-27T08:26:38.184267Z",
          "shell.execute_reply": "2023-08-27T08:26:38.356877Z"
        },
        "trusted": true,
        "id": "Zds2h3cEiHi2"
      },
      "execution_count": null,
      "outputs": []
    },
    {
      "cell_type": "code",
      "source": [
        "\n",
        "pd.DataFrame(pred).value_counts()"
      ],
      "metadata": {
        "execution": {
          "iopub.status.busy": "2023-08-27T08:26:39.989528Z",
          "iopub.execute_input": "2023-08-27T08:26:39.989928Z",
          "iopub.status.idle": "2023-08-27T08:26:40.010123Z",
          "shell.execute_reply.started": "2023-08-27T08:26:39.989886Z",
          "shell.execute_reply": "2023-08-27T08:26:40.008823Z"
        },
        "trusted": true,
        "id": "Xs9VKo6ZiHi2"
      },
      "execution_count": null,
      "outputs": []
    },
    {
      "cell_type": "markdown",
      "source": [
        "# FINAL SUBMISSIONS SCORE : 0.83102\n"
      ],
      "metadata": {
        "id": "_tLSgMuKiHi2"
      }
    }
  ]
}